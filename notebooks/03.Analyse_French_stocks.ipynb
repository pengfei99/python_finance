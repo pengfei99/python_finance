{
 "cells": [
  {
   "cell_type": "markdown",
   "source": [
    "# Analyse french stocks\n",
    "\n",
    "In this tutorial, we will use the basic technics to analyse all french stock and try to find out which stock is worth for investment.\n",
    "\n",
    "The objectives:\n",
    "1. Find the top 20 stock with the best dividendYield of the last 5 years\n",
    "2. Find the top 20 stock which are under evaluated ()\n",
    "3. Find the top 20 stock which lost values in percentage.\n",
    "\n",
    "## 1. Get all french stock symbols (ticker)\n",
    "\n",
    "We can download the list of the stock symbols from this [site](https://www.abcbourse.com/download/libelles)\n",
    "\n"
   ],
   "metadata": {
    "collapsed": false
   }
  },
  {
   "cell_type": "code",
   "execution_count": 5,
   "outputs": [],
   "source": [
    "import pandas as pd\n",
    "import yfinance as yf\n",
    "import datetime"
   ],
   "metadata": {
    "collapsed": false
   }
  },
  {
   "cell_type": "code",
   "execution_count": 2,
   "outputs": [
    {
     "data": {
      "text/plain": "           ISIN               nom ticker\n0  FR0000031122  Air France - KLM     AF\n1  FR0000031577            Virbac   VIRP\n2  FR0000031775             Vicat    VCT\n3  FR0000032278         Latecoere    LAT\n4  FR0000032526           Guerbet    GBT",
      "text/html": "<div>\n<style scoped>\n    .dataframe tbody tr th:only-of-type {\n        vertical-align: middle;\n    }\n\n    .dataframe tbody tr th {\n        vertical-align: top;\n    }\n\n    .dataframe thead th {\n        text-align: right;\n    }\n</style>\n<table border=\"1\" class=\"dataframe\">\n  <thead>\n    <tr style=\"text-align: right;\">\n      <th></th>\n      <th>ISIN</th>\n      <th>nom</th>\n      <th>ticker</th>\n    </tr>\n  </thead>\n  <tbody>\n    <tr>\n      <th>0</th>\n      <td>FR0000031122</td>\n      <td>Air France - KLM</td>\n      <td>AF</td>\n    </tr>\n    <tr>\n      <th>1</th>\n      <td>FR0000031577</td>\n      <td>Virbac</td>\n      <td>VIRP</td>\n    </tr>\n    <tr>\n      <th>2</th>\n      <td>FR0000031775</td>\n      <td>Vicat</td>\n      <td>VCT</td>\n    </tr>\n    <tr>\n      <th>3</th>\n      <td>FR0000032278</td>\n      <td>Latecoere</td>\n      <td>LAT</td>\n    </tr>\n    <tr>\n      <th>4</th>\n      <td>FR0000032526</td>\n      <td>Guerbet</td>\n      <td>GBT</td>\n    </tr>\n  </tbody>\n</table>\n</div>"
     },
     "execution_count": 2,
     "metadata": {},
     "output_type": "execute_result"
    }
   ],
   "source": [
    "filePath= \"../data/fr_stocks.csv\"\n",
    "\n",
    "stockSymbolDf = pd.read_csv(filePath, sep=\";\")\n",
    "stockSymbolDf.head(5)"
   ],
   "metadata": {
    "collapsed": false
   }
  },
  {
   "cell_type": "code",
   "execution_count": 11,
   "outputs": [
    {
     "data": {
      "text/plain": "(216, 3)"
     },
     "execution_count": 11,
     "metadata": {},
     "output_type": "execute_result"
    }
   ],
   "source": [
    "# we have 216 stock in our list\n",
    "stockSymbolDf.shape"
   ],
   "metadata": {
    "collapsed": false
   }
  },
  {
   "cell_type": "markdown",
   "source": [
    "We can notice that the ticker is not valid for yf, We need to add `.PA` to complete. For example, we need to convert `AF` to `AF.PA`"
   ],
   "metadata": {
    "collapsed": false
   }
  },
  {
   "cell_type": "code",
   "execution_count": 8,
   "outputs": [
    {
     "name": "stdout",
     "output_type": "stream",
     "text": [
      "{'exchange': 'YHD', 'quoteType': 'MUTUALFUND', 'symbol': 'AF', 'underlyingSymbol': 'AF', 'shortName': '411094', 'timeZoneFullName': 'America/New_York', 'timeZoneShortName': 'EDT', 'uuid': '06fa567b-72d7-3b7e-bea7-46973fbbd1d5', 'gmtOffSetMilliseconds': -14400000, 'maxAge': 86400, 'trailingPegRatio': None}\n"
     ]
    }
   ],
   "source": [
    "bad = yf.Ticker(\"AF\")\n",
    "print(bad.info)"
   ],
   "metadata": {
    "collapsed": false
   }
  },
  {
   "cell_type": "code",
   "execution_count": 9,
   "outputs": [
    {
     "name": "stdout",
     "output_type": "stream",
     "text": [
      "{'address1': '7 rue du Cirque', 'city': 'Paris', 'zip': '75008', 'country': 'France', 'phone': '33 1 43 17 20 20', 'website': 'https://www.airfranceklm.com', 'industry': 'Airlines', 'industryDisp': 'Airlines', 'sector': 'Industrials', 'sectorDisp': 'Industrials', 'longBusinessSummary': 'Air France-KLM SA, together with its subsidiaries, provides passenger and cargo transportation services and aeronautical maintenance in Metropolitan France, Benelux, rest of Europe, and internationally. The company operates through three segments: Airframe maintenance, Engine Maintenance, and Component Support. It offers airframe maintenance, electronic, mechanical, pneumatic, hydraulic, and other services. The company was founded in 1919 and is headquartered in Paris, France.', 'fullTimeEmployees': 74580, 'companyOfficers': [{'maxAge': 1, 'name': 'Mr. Benjamin M. Smith', 'age': 51, 'title': 'CEO & Director', 'yearBorn': 1971, 'fiscalYear': 2022, 'totalPay': 2235149, 'exercisedValue': 0, 'unexercisedValue': 0}, {'maxAge': 1, 'name': 'Mr. Steven  Zaat', 'age': 52, 'title': 'Chief Financial Officer', 'yearBorn': 1970, 'exercisedValue': 0, 'unexercisedValue': 0}, {'maxAge': 1, 'name': 'Mr. Eric  Schramm', 'age': 63, 'title': 'Exec. VP of Operations and Accountable Mang.', 'yearBorn': 1959, 'exercisedValue': 0, 'unexercisedValue': 0}, {'maxAge': 1, 'name': 'Mr. Olivier  Gall', 'title': 'Head of Investor Relations', 'exercisedValue': 0, 'unexercisedValue': 0}, {'maxAge': 1, 'name': 'Ms. Constance  Thio', 'age': 51, 'title': 'Exec. VP of HR & Sustainability', 'yearBorn': 1971, 'exercisedValue': 0, 'unexercisedValue': 0}, {'maxAge': 1, 'name': 'Mr. Jean-Christophe  Lalanne', 'age': 60, 'title': 'Exec. VP of Information Technology', 'yearBorn': 1962, 'exercisedValue': 0, 'unexercisedValue': 0}, {'maxAge': 1, 'name': 'Mr. Henri  de Peyrelongue', 'age': 56, 'title': 'Exec. VP of Commercial Sales', 'yearBorn': 1966, 'exercisedValue': 0, 'unexercisedValue': 0}, {'maxAge': 1, 'name': 'Mr. Henri  Hourcade', 'title': 'Sr. VP of Caribbean & Indian Ocean, Central and South America', 'exercisedValue': 0, 'unexercisedValue': 0}, {'maxAge': 1, 'name': 'Mr. Barry Ter Voert', 'title': 'Sr. VP of Europe', 'exercisedValue': 0, 'unexercisedValue': 0}, {'maxAge': 1, 'name': 'Ms. Anne  Brachet', 'age': 58, 'title': 'Exec. VP of Engineering & Maintenance', 'yearBorn': 1964, 'exercisedValue': 0, 'unexercisedValue': 0}], 'auditRisk': 5, 'boardRisk': 3, 'compensationRisk': 9, 'shareHolderRightsRisk': 10, 'overallRisk': 6, 'governanceEpochDate': 1690848000, 'compensationAsOfEpochDate': 1672444800, 'maxAge': 86400, 'priceHint': 4, 'previousClose': 1.395, 'open': 1.3985, 'dayLow': 1.391, 'dayHigh': 1.4025, 'regularMarketPreviousClose': 1.395, 'regularMarketOpen': 1.3985, 'regularMarketDayLow': 1.391, 'regularMarketDayHigh': 1.4025, 'exDividendDate': 1215993600, 'payoutRatio': 0.0, 'beta': 1.724072, 'trailingPE': 1.2450893, 'forwardPE': 3.48625, 'volume': 1164999, 'regularMarketVolume': 1164999, 'averageVolume': 11436016, 'averageVolume10days': 9990358, 'averageDailyVolume10Day': 9990358, 'bid': 0.0, 'ask': 0.0, 'bidSize': 0, 'askSize': 0, 'marketCap': 4008016384, 'fiftyTwoWeekLow': 1.184, 'fiftyTwoWeekHigh': 1.862, 'priceToSalesTrailing12Months': 0.13728905, 'fiftyDayAverage': 1.62038, 'twoHundredDayAverage': 1.5366775, 'trailingAnnualDividendRate': 0.0, 'trailingAnnualDividendYield': 0.0, 'currency': 'EUR', 'enterpriseValue': 10326037504, 'profitMargins': 0.04165, 'floatShares': 1138957467, 'sharesOutstanding': 2569750016, 'heldPercentInsiders': 0.52789, 'heldPercentInstitutions': 0.09184, 'impliedSharesOutstanding': 0, 'bookValue': -1.486, 'lastFiscalYearEnd': 1672444800, 'nextFiscalYearEnd': 1703980800, 'mostRecentQuarter': 1688083200, 'earningsQuarterlyGrowth': 0.864, 'netIncomeToCommon': 1060000000, 'trailingEps': 1.12, 'forwardEps': 0.4, 'pegRatio': 0.1, 'lastSplitFactor': '1:10', 'lastSplitDate': 1693440000, 'enterpriseToRevenue': 0.354, 'enterpriseToEbitda': 3.555, '52WeekChange': -0.037931025, 'SandP52WeekChange': 0.055998206, 'lastDividendValue': 0.292522, 'lastDividendDate': 1215993600, 'exchange': 'PAR', 'quoteType': 'EQUITY', 'symbol': 'AF.PA', 'underlyingSymbol': 'AF.PA', 'shortName': 'AIR FRANCE -KLM', 'longName': 'Air France-KLM SA', 'firstTradeDateEpochUtc': 946886400, 'timeZoneFullName': 'Europe/Paris', 'timeZoneShortName': 'CEST', 'uuid': 'aa3ee035-6aff-395d-9191-ab6af009bb1b', 'messageBoardId': 'finmb_4463198', 'gmtOffSetMilliseconds': 7200000, 'currentPrice': 1.3945, 'targetHighPrice': 2.6, 'targetLowPrice': 1.1, 'targetMeanPrice': 2.0, 'targetMedianPrice': 2.1, 'recommendationMean': 2.5, 'recommendationKey': 'buy', 'numberOfAnalystOpinions': 17, 'totalCash': 6790000128, 'totalCashPerShare': 2.643, 'ebitda': 2904999936, 'totalDebt': 12952000512, 'quickRatio': 0.541, 'currentRatio': 0.676, 'totalRevenue': 29194000384, 'revenuePerShare': 11.331, 'returnOnAssets': 0.026349999, 'grossProfits': 5182000000, 'freeCashflow': 2828800000, 'operatingCashflow': 4116000000, 'earningsGrowth': -0.267, 'revenueGrowth': 0.137, 'grossMargins': 0.20436001, 'ebitdaMargins': 0.09951, 'operatingMargins': 0.04843, 'financialCurrency': 'EUR', 'trailingPegRatio': None}\n"
     ]
    }
   ],
   "source": [
    "good=yf.Ticker(\"AF.PA\")\n",
    "print(good.info)"
   ],
   "metadata": {
    "collapsed": false
   }
  },
  {
   "cell_type": "code",
   "execution_count": 10,
   "outputs": [
    {
     "data": {
      "text/plain": "           ISIN               nom   ticker\n0  FR0000031122  Air France - KLM    AF.PA\n1  FR0000031577            Virbac  VIRP.PA\n2  FR0000031775             Vicat   VCT.PA\n3  FR0000032278         Latecoere   LAT.PA\n4  FR0000032526           Guerbet   GBT.PA",
      "text/html": "<div>\n<style scoped>\n    .dataframe tbody tr th:only-of-type {\n        vertical-align: middle;\n    }\n\n    .dataframe tbody tr th {\n        vertical-align: top;\n    }\n\n    .dataframe thead th {\n        text-align: right;\n    }\n</style>\n<table border=\"1\" class=\"dataframe\">\n  <thead>\n    <tr style=\"text-align: right;\">\n      <th></th>\n      <th>ISIN</th>\n      <th>nom</th>\n      <th>ticker</th>\n    </tr>\n  </thead>\n  <tbody>\n    <tr>\n      <th>0</th>\n      <td>FR0000031122</td>\n      <td>Air France - KLM</td>\n      <td>AF.PA</td>\n    </tr>\n    <tr>\n      <th>1</th>\n      <td>FR0000031577</td>\n      <td>Virbac</td>\n      <td>VIRP.PA</td>\n    </tr>\n    <tr>\n      <th>2</th>\n      <td>FR0000031775</td>\n      <td>Vicat</td>\n      <td>VCT.PA</td>\n    </tr>\n    <tr>\n      <th>3</th>\n      <td>FR0000032278</td>\n      <td>Latecoere</td>\n      <td>LAT.PA</td>\n    </tr>\n    <tr>\n      <th>4</th>\n      <td>FR0000032526</td>\n      <td>Guerbet</td>\n      <td>GBT.PA</td>\n    </tr>\n  </tbody>\n</table>\n</div>"
     },
     "execution_count": 10,
     "metadata": {},
     "output_type": "execute_result"
    }
   ],
   "source": [
    "# convert\n",
    "postfix=\".PA\"\n",
    "stockSymbolDf['ticker'] = stockSymbolDf['ticker']+postfix\n",
    "stockSymbolDf.head(5)"
   ],
   "metadata": {
    "collapsed": false
   }
  },
  {
   "cell_type": "markdown",
   "source": [
    "## 2. Enrich the stock data frame\n",
    "\n",
    "We need more information to judge a stock.\n",
    "\n",
    "### 2.1 Which sector the enterprise works on ?"
   ],
   "metadata": {
    "collapsed": false
   }
  },
  {
   "cell_type": "code",
   "execution_count": 13,
   "outputs": [
    {
     "data": {
      "text/plain": "                address1            city    zip country             phone  \\\n0        7 rue du Cirque           Paris  75008  France  33 1 43 17 20 20   \n1    13e rue LID - BP 27          Carros  06511  France  33 4 92 08 71 00   \n2  4 Rue Aristide Berges  L'Isle-d'Abeau  38080  France  33 4 74 27 59 00   \n3    135, rue de Periole        Toulouse  31079  France  33 5 61 58 77 00   \n4   15, rue des Vanesses      Villepinte  93420  France  33 1 45 91 50 00   \n\n                        website                    industry  \\\n0  https://www.airfranceklm.com                    Airlines   \n1  https://corporate.virbac.com  Drug Manufacturers—General   \n2          https://www.vicat.fr          Building Materials   \n3    https://www.latecoere.aero         Aerospace & Defense   \n4       https://www.guerbet.com             Medical Devices   \n\n                 industryDisp           sector       sectorDisp  ...  \\\n0                    Airlines      Industrials      Industrials  ...   \n1  Drug Manufacturers—General       Healthcare       Healthcare  ...   \n2          Building Materials  Basic Materials  Basic Materials  ...   \n3         Aerospace & Defense      Industrials      Industrials  ...   \n4             Medical Devices       Healthcare       Healthcare  ...   \n\n  financialCurrency  trailingPegRatio            address2  dividendRate  \\\n0               EUR               NaN                 NaN           NaN   \n1               EUR               NaN               Cedex          1.32   \n2               EUR               NaN   Les Trois Vallons          1.65   \n3               EUR               NaN    BP 25211 Cedex 5           NaN   \n4               EUR               NaN  Zone Paris Nord II          0.50   \n\n   dividendYield  priceToBook  debtToEquity  returnOnEquity  \\\n0            NaN          NaN           NaN             NaN   \n1         0.0048     2.635232        11.545         0.15512   \n2         0.0518     0.546824        73.292         0.06851   \n3            NaN     2.962500      1839.217        -1.00543   \n4         0.0230     0.708182        82.209        -0.10480   \n\n   fiveYearAvgDividendYield               fax  \n0                       NaN               NaN  \n1                       NaN               NaN  \n2                      4.69               NaN  \n3                       NaN               NaN  \n4                      2.60  33 1 45 91 51 99  \n\n[5 rows x 124 columns]",
      "text/html": "<div>\n<style scoped>\n    .dataframe tbody tr th:only-of-type {\n        vertical-align: middle;\n    }\n\n    .dataframe tbody tr th {\n        vertical-align: top;\n    }\n\n    .dataframe thead th {\n        text-align: right;\n    }\n</style>\n<table border=\"1\" class=\"dataframe\">\n  <thead>\n    <tr style=\"text-align: right;\">\n      <th></th>\n      <th>address1</th>\n      <th>city</th>\n      <th>zip</th>\n      <th>country</th>\n      <th>phone</th>\n      <th>website</th>\n      <th>industry</th>\n      <th>industryDisp</th>\n      <th>sector</th>\n      <th>sectorDisp</th>\n      <th>...</th>\n      <th>financialCurrency</th>\n      <th>trailingPegRatio</th>\n      <th>address2</th>\n      <th>dividendRate</th>\n      <th>dividendYield</th>\n      <th>priceToBook</th>\n      <th>debtToEquity</th>\n      <th>returnOnEquity</th>\n      <th>fiveYearAvgDividendYield</th>\n      <th>fax</th>\n    </tr>\n  </thead>\n  <tbody>\n    <tr>\n      <th>0</th>\n      <td>7 rue du Cirque</td>\n      <td>Paris</td>\n      <td>75008</td>\n      <td>France</td>\n      <td>33 1 43 17 20 20</td>\n      <td>https://www.airfranceklm.com</td>\n      <td>Airlines</td>\n      <td>Airlines</td>\n      <td>Industrials</td>\n      <td>Industrials</td>\n      <td>...</td>\n      <td>EUR</td>\n      <td>NaN</td>\n      <td>NaN</td>\n      <td>NaN</td>\n      <td>NaN</td>\n      <td>NaN</td>\n      <td>NaN</td>\n      <td>NaN</td>\n      <td>NaN</td>\n      <td>NaN</td>\n    </tr>\n    <tr>\n      <th>1</th>\n      <td>13e rue LID - BP 27</td>\n      <td>Carros</td>\n      <td>06511</td>\n      <td>France</td>\n      <td>33 4 92 08 71 00</td>\n      <td>https://corporate.virbac.com</td>\n      <td>Drug Manufacturers—General</td>\n      <td>Drug Manufacturers—General</td>\n      <td>Healthcare</td>\n      <td>Healthcare</td>\n      <td>...</td>\n      <td>EUR</td>\n      <td>NaN</td>\n      <td>Cedex</td>\n      <td>1.32</td>\n      <td>0.0048</td>\n      <td>2.635232</td>\n      <td>11.545</td>\n      <td>0.15512</td>\n      <td>NaN</td>\n      <td>NaN</td>\n    </tr>\n    <tr>\n      <th>2</th>\n      <td>4 Rue Aristide Berges</td>\n      <td>L'Isle-d'Abeau</td>\n      <td>38080</td>\n      <td>France</td>\n      <td>33 4 74 27 59 00</td>\n      <td>https://www.vicat.fr</td>\n      <td>Building Materials</td>\n      <td>Building Materials</td>\n      <td>Basic Materials</td>\n      <td>Basic Materials</td>\n      <td>...</td>\n      <td>EUR</td>\n      <td>NaN</td>\n      <td>Les Trois Vallons</td>\n      <td>1.65</td>\n      <td>0.0518</td>\n      <td>0.546824</td>\n      <td>73.292</td>\n      <td>0.06851</td>\n      <td>4.69</td>\n      <td>NaN</td>\n    </tr>\n    <tr>\n      <th>3</th>\n      <td>135, rue de Periole</td>\n      <td>Toulouse</td>\n      <td>31079</td>\n      <td>France</td>\n      <td>33 5 61 58 77 00</td>\n      <td>https://www.latecoere.aero</td>\n      <td>Aerospace &amp; Defense</td>\n      <td>Aerospace &amp; Defense</td>\n      <td>Industrials</td>\n      <td>Industrials</td>\n      <td>...</td>\n      <td>EUR</td>\n      <td>NaN</td>\n      <td>BP 25211 Cedex 5</td>\n      <td>NaN</td>\n      <td>NaN</td>\n      <td>2.962500</td>\n      <td>1839.217</td>\n      <td>-1.00543</td>\n      <td>NaN</td>\n      <td>NaN</td>\n    </tr>\n    <tr>\n      <th>4</th>\n      <td>15, rue des Vanesses</td>\n      <td>Villepinte</td>\n      <td>93420</td>\n      <td>France</td>\n      <td>33 1 45 91 50 00</td>\n      <td>https://www.guerbet.com</td>\n      <td>Medical Devices</td>\n      <td>Medical Devices</td>\n      <td>Healthcare</td>\n      <td>Healthcare</td>\n      <td>...</td>\n      <td>EUR</td>\n      <td>NaN</td>\n      <td>Zone Paris Nord II</td>\n      <td>0.50</td>\n      <td>0.0230</td>\n      <td>0.708182</td>\n      <td>82.209</td>\n      <td>-0.10480</td>\n      <td>2.60</td>\n      <td>33 1 45 91 51 99</td>\n    </tr>\n  </tbody>\n</table>\n<p>5 rows × 124 columns</p>\n</div>"
     },
     "execution_count": 13,
     "metadata": {},
     "output_type": "execute_result"
    }
   ],
   "source": [
    "tickerList = stockSymbolDf['ticker'].tolist()\n",
    "\n",
    "tickerDictList = []\n",
    "for ticker in tickerList:\n",
    "    tickerInfo = yf.Ticker(ticker).info\n",
    "    tickerDictList.append(tickerInfo)\n",
    "\n",
    "\n",
    "tickerDf = pd.DataFrame(tickerDictList)\n",
    "tickerDf.head(5)"
   ],
   "metadata": {
    "collapsed": false
   }
  },
  {
   "cell_type": "code",
   "execution_count": 14,
   "outputs": [
    {
     "data": {
      "text/plain": "                      address1            city    zip country  \\\nsymbol                                                          \nAF.PA          7 rue du Cirque           Paris  75008  France   \nVIRP.PA    13e rue LID - BP 27          Carros  06511  France   \nVCT.PA   4 Rue Aristide Berges  L'Isle-d'Abeau  38080  France   \nLAT.PA     135, rue de Periole        Toulouse  31079  France   \nGBT.PA    15, rue des Vanesses      Villepinte  93420  France   \n\n                    phone                       website  \\\nsymbol                                                    \nAF.PA    33 1 43 17 20 20  https://www.airfranceklm.com   \nVIRP.PA  33 4 92 08 71 00  https://corporate.virbac.com   \nVCT.PA   33 4 74 27 59 00          https://www.vicat.fr   \nLAT.PA   33 5 61 58 77 00    https://www.latecoere.aero   \nGBT.PA   33 1 45 91 50 00       https://www.guerbet.com   \n\n                           industry                industryDisp  \\\nsymbol                                                            \nAF.PA                      Airlines                    Airlines   \nVIRP.PA  Drug Manufacturers—General  Drug Manufacturers—General   \nVCT.PA           Building Materials          Building Materials   \nLAT.PA          Aerospace & Defense         Aerospace & Defense   \nGBT.PA              Medical Devices             Medical Devices   \n\n                  sector       sectorDisp  ... financialCurrency  \\\nsymbol                                     ...                     \nAF.PA        Industrials      Industrials  ...               EUR   \nVIRP.PA       Healthcare       Healthcare  ...               EUR   \nVCT.PA   Basic Materials  Basic Materials  ...               EUR   \nLAT.PA       Industrials      Industrials  ...               EUR   \nGBT.PA        Healthcare       Healthcare  ...               EUR   \n\n         trailingPegRatio            address2  dividendRate  dividendYield  \\\nsymbol                                                                       \nAF.PA                 NaN                 NaN           NaN            NaN   \nVIRP.PA               NaN               Cedex          1.32         0.0048   \nVCT.PA                NaN   Les Trois Vallons          1.65         0.0518   \nLAT.PA                NaN    BP 25211 Cedex 5           NaN            NaN   \nGBT.PA                NaN  Zone Paris Nord II          0.50         0.0230   \n\n         priceToBook  debtToEquity  returnOnEquity  fiveYearAvgDividendYield  \\\nsymbol                                                                         \nAF.PA            NaN           NaN             NaN                       NaN   \nVIRP.PA     2.635232        11.545         0.15512                       NaN   \nVCT.PA      0.546824        73.292         0.06851                      4.69   \nLAT.PA      2.962500      1839.217        -1.00543                       NaN   \nGBT.PA      0.708182        82.209        -0.10480                      2.60   \n\n                      fax  \nsymbol                     \nAF.PA                 NaN  \nVIRP.PA               NaN  \nVCT.PA                NaN  \nLAT.PA                NaN  \nGBT.PA   33 1 45 91 51 99  \n\n[5 rows x 123 columns]",
      "text/html": "<div>\n<style scoped>\n    .dataframe tbody tr th:only-of-type {\n        vertical-align: middle;\n    }\n\n    .dataframe tbody tr th {\n        vertical-align: top;\n    }\n\n    .dataframe thead th {\n        text-align: right;\n    }\n</style>\n<table border=\"1\" class=\"dataframe\">\n  <thead>\n    <tr style=\"text-align: right;\">\n      <th></th>\n      <th>address1</th>\n      <th>city</th>\n      <th>zip</th>\n      <th>country</th>\n      <th>phone</th>\n      <th>website</th>\n      <th>industry</th>\n      <th>industryDisp</th>\n      <th>sector</th>\n      <th>sectorDisp</th>\n      <th>...</th>\n      <th>financialCurrency</th>\n      <th>trailingPegRatio</th>\n      <th>address2</th>\n      <th>dividendRate</th>\n      <th>dividendYield</th>\n      <th>priceToBook</th>\n      <th>debtToEquity</th>\n      <th>returnOnEquity</th>\n      <th>fiveYearAvgDividendYield</th>\n      <th>fax</th>\n    </tr>\n    <tr>\n      <th>symbol</th>\n      <th></th>\n      <th></th>\n      <th></th>\n      <th></th>\n      <th></th>\n      <th></th>\n      <th></th>\n      <th></th>\n      <th></th>\n      <th></th>\n      <th></th>\n      <th></th>\n      <th></th>\n      <th></th>\n      <th></th>\n      <th></th>\n      <th></th>\n      <th></th>\n      <th></th>\n      <th></th>\n      <th></th>\n    </tr>\n  </thead>\n  <tbody>\n    <tr>\n      <th>AF.PA</th>\n      <td>7 rue du Cirque</td>\n      <td>Paris</td>\n      <td>75008</td>\n      <td>France</td>\n      <td>33 1 43 17 20 20</td>\n      <td>https://www.airfranceklm.com</td>\n      <td>Airlines</td>\n      <td>Airlines</td>\n      <td>Industrials</td>\n      <td>Industrials</td>\n      <td>...</td>\n      <td>EUR</td>\n      <td>NaN</td>\n      <td>NaN</td>\n      <td>NaN</td>\n      <td>NaN</td>\n      <td>NaN</td>\n      <td>NaN</td>\n      <td>NaN</td>\n      <td>NaN</td>\n      <td>NaN</td>\n    </tr>\n    <tr>\n      <th>VIRP.PA</th>\n      <td>13e rue LID - BP 27</td>\n      <td>Carros</td>\n      <td>06511</td>\n      <td>France</td>\n      <td>33 4 92 08 71 00</td>\n      <td>https://corporate.virbac.com</td>\n      <td>Drug Manufacturers—General</td>\n      <td>Drug Manufacturers—General</td>\n      <td>Healthcare</td>\n      <td>Healthcare</td>\n      <td>...</td>\n      <td>EUR</td>\n      <td>NaN</td>\n      <td>Cedex</td>\n      <td>1.32</td>\n      <td>0.0048</td>\n      <td>2.635232</td>\n      <td>11.545</td>\n      <td>0.15512</td>\n      <td>NaN</td>\n      <td>NaN</td>\n    </tr>\n    <tr>\n      <th>VCT.PA</th>\n      <td>4 Rue Aristide Berges</td>\n      <td>L'Isle-d'Abeau</td>\n      <td>38080</td>\n      <td>France</td>\n      <td>33 4 74 27 59 00</td>\n      <td>https://www.vicat.fr</td>\n      <td>Building Materials</td>\n      <td>Building Materials</td>\n      <td>Basic Materials</td>\n      <td>Basic Materials</td>\n      <td>...</td>\n      <td>EUR</td>\n      <td>NaN</td>\n      <td>Les Trois Vallons</td>\n      <td>1.65</td>\n      <td>0.0518</td>\n      <td>0.546824</td>\n      <td>73.292</td>\n      <td>0.06851</td>\n      <td>4.69</td>\n      <td>NaN</td>\n    </tr>\n    <tr>\n      <th>LAT.PA</th>\n      <td>135, rue de Periole</td>\n      <td>Toulouse</td>\n      <td>31079</td>\n      <td>France</td>\n      <td>33 5 61 58 77 00</td>\n      <td>https://www.latecoere.aero</td>\n      <td>Aerospace &amp; Defense</td>\n      <td>Aerospace &amp; Defense</td>\n      <td>Industrials</td>\n      <td>Industrials</td>\n      <td>...</td>\n      <td>EUR</td>\n      <td>NaN</td>\n      <td>BP 25211 Cedex 5</td>\n      <td>NaN</td>\n      <td>NaN</td>\n      <td>2.962500</td>\n      <td>1839.217</td>\n      <td>-1.00543</td>\n      <td>NaN</td>\n      <td>NaN</td>\n    </tr>\n    <tr>\n      <th>GBT.PA</th>\n      <td>15, rue des Vanesses</td>\n      <td>Villepinte</td>\n      <td>93420</td>\n      <td>France</td>\n      <td>33 1 45 91 50 00</td>\n      <td>https://www.guerbet.com</td>\n      <td>Medical Devices</td>\n      <td>Medical Devices</td>\n      <td>Healthcare</td>\n      <td>Healthcare</td>\n      <td>...</td>\n      <td>EUR</td>\n      <td>NaN</td>\n      <td>Zone Paris Nord II</td>\n      <td>0.50</td>\n      <td>0.0230</td>\n      <td>0.708182</td>\n      <td>82.209</td>\n      <td>-0.10480</td>\n      <td>2.60</td>\n      <td>33 1 45 91 51 99</td>\n    </tr>\n  </tbody>\n</table>\n<p>5 rows × 123 columns</p>\n</div>"
     },
     "execution_count": 14,
     "metadata": {},
     "output_type": "execute_result"
    }
   ],
   "source": [
    "# set the symbol colum as the index column.\n",
    "# The inplace=True parameter updates the DataFrame in place, modifying it without needing to assign the result back to the variable.\n",
    "tickerDf.set_index(\"symbol\",inplace=True)\n",
    "tickerDf.head(5)"
   ],
   "metadata": {
    "collapsed": false
   }
  },
  {
   "cell_type": "code",
   "execution_count": 16,
   "outputs": [],
   "source": [
    "outPath= \"../data/fr_stock_info.csv\""
   ],
   "metadata": {
    "collapsed": false
   }
  },
  {
   "cell_type": "code",
   "execution_count": 17,
   "outputs": [],
   "source": [
    "tickerDf.to_csv(outPath,index=True)"
   ],
   "metadata": {
    "collapsed": false
   }
  },
  {
   "cell_type": "code",
   "execution_count": null,
   "outputs": [],
   "source": [],
   "metadata": {
    "collapsed": false
   }
  }
 ],
 "metadata": {
  "kernelspec": {
   "display_name": "Python 3",
   "language": "python",
   "name": "python3"
  },
  "language_info": {
   "codemirror_mode": {
    "name": "ipython",
    "version": 2
   },
   "file_extension": ".py",
   "mimetype": "text/x-python",
   "name": "python",
   "nbconvert_exporter": "python",
   "pygments_lexer": "ipython2",
   "version": "2.7.6"
  }
 },
 "nbformat": 4,
 "nbformat_minor": 0
}
