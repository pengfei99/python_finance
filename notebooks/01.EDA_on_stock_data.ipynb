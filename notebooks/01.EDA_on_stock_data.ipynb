{
 "cells": [
  {
   "cell_type": "markdown",
   "source": [
    "#\n",
    "\n"
   ],
   "metadata": {
    "collapsed": false
   }
  },
  {
   "cell_type": "code",
   "execution_count": 21,
   "outputs": [],
   "source": [
    "import pandas as pd\n",
    "from pandas import DataFrame, Series\n",
    "import numpy as np\n",
    "import pandas_datareader as web\n",
    "import datetime\n",
    "import yfinance as yf"
   ],
   "metadata": {
    "collapsed": false
   }
  },
  {
   "cell_type": "code",
   "execution_count": 23,
   "outputs": [],
   "source": [
    "# set up which stock we want to analysis\n",
    "alstom = \"ALO.PA\"\n",
    "start = datetime.datetime(2015, 1, 1)\n",
    "end = datetime.datetime.now().date()"
   ],
   "metadata": {
    "collapsed": false
   }
  },
  {
   "cell_type": "markdown",
   "source": [
    "## Step1. Get the stock historical data\n",
    "\n",
    "There are many ways to get the stock data:\n",
    "- yfinance: test success\n",
    "- tushare: test failed\n",
    "- pandas_datareader [pandas-datareader](https://pydata.github.io/pandas-datareader/): test failed\n"
   ],
   "metadata": {
    "collapsed": false
   }
  },
  {
   "cell_type": "code",
   "execution_count": 19,
   "outputs": [
    {
     "ename": "TypeError",
     "evalue": "string indices must be integers",
     "output_type": "error",
     "traceback": [
      "\u001B[0;31m---------------------------------------------------------------------------\u001B[0m",
      "\u001B[0;31mTypeError\u001B[0m                                 Traceback (most recent call last)",
      "Cell \u001B[0;32mIn[19], line 2\u001B[0m\n\u001B[1;32m      1\u001B[0m \u001B[38;5;66;03m# test datareader failed\u001B[39;00m\n\u001B[0;32m----> 2\u001B[0m df \u001B[38;5;241m=\u001B[39m \u001B[43mweb\u001B[49m\u001B[38;5;241;43m.\u001B[39;49m\u001B[43mDataReader\u001B[49m\u001B[43m(\u001B[49m\u001B[38;5;124;43m\"\u001B[39;49m\u001B[38;5;124;43mTSLA\u001B[39;49m\u001B[38;5;124;43m\"\u001B[39;49m\u001B[43m,\u001B[49m\u001B[43m \u001B[49m\u001B[38;5;124;43m'\u001B[39;49m\u001B[38;5;124;43myahoo\u001B[39;49m\u001B[38;5;124;43m'\u001B[39;49m\u001B[43m,\u001B[49m\u001B[43m \u001B[49m\u001B[43mstart\u001B[49m\u001B[43m,\u001B[49m\u001B[43m \u001B[49m\u001B[43mend\u001B[49m\u001B[43m)\u001B[49m\n",
      "File \u001B[0;32m~/.cache/pypoetry/virtualenvs/python-finance-GYfqctcg-py3.8/lib/python3.8/site-packages/pandas/util/_decorators.py:210\u001B[0m, in \u001B[0;36mdeprecate_kwarg.<locals>._deprecate_kwarg.<locals>.wrapper\u001B[0;34m(*args, **kwargs)\u001B[0m\n\u001B[1;32m    208\u001B[0m         \u001B[38;5;28;01mraise\u001B[39;00m \u001B[38;5;167;01mTypeError\u001B[39;00m(msg)\n\u001B[1;32m    209\u001B[0m     kwargs[new_arg_name] \u001B[38;5;241m=\u001B[39m new_arg_value\n\u001B[0;32m--> 210\u001B[0m \u001B[38;5;28;01mreturn\u001B[39;00m \u001B[43mfunc\u001B[49m\u001B[43m(\u001B[49m\u001B[38;5;241;43m*\u001B[39;49m\u001B[43margs\u001B[49m\u001B[43m,\u001B[49m\u001B[43m \u001B[49m\u001B[38;5;241;43m*\u001B[39;49m\u001B[38;5;241;43m*\u001B[39;49m\u001B[43mkwargs\u001B[49m\u001B[43m)\u001B[49m\n",
      "File \u001B[0;32m~/.cache/pypoetry/virtualenvs/python-finance-GYfqctcg-py3.8/lib/python3.8/site-packages/pandas_datareader/data.py:370\u001B[0m, in \u001B[0;36mDataReader\u001B[0;34m(name, data_source, start, end, retry_count, pause, session, api_key)\u001B[0m\n\u001B[1;32m    367\u001B[0m     \u001B[38;5;28;01mraise\u001B[39;00m \u001B[38;5;167;01mNotImplementedError\u001B[39;00m(msg)\n\u001B[1;32m    369\u001B[0m \u001B[38;5;28;01mif\u001B[39;00m data_source \u001B[38;5;241m==\u001B[39m \u001B[38;5;124m\"\u001B[39m\u001B[38;5;124myahoo\u001B[39m\u001B[38;5;124m\"\u001B[39m:\n\u001B[0;32m--> 370\u001B[0m     \u001B[38;5;28;01mreturn\u001B[39;00m \u001B[43mYahooDailyReader\u001B[49m\u001B[43m(\u001B[49m\n\u001B[1;32m    371\u001B[0m \u001B[43m        \u001B[49m\u001B[43msymbols\u001B[49m\u001B[38;5;241;43m=\u001B[39;49m\u001B[43mname\u001B[49m\u001B[43m,\u001B[49m\n\u001B[1;32m    372\u001B[0m \u001B[43m        \u001B[49m\u001B[43mstart\u001B[49m\u001B[38;5;241;43m=\u001B[39;49m\u001B[43mstart\u001B[49m\u001B[43m,\u001B[49m\n\u001B[1;32m    373\u001B[0m \u001B[43m        \u001B[49m\u001B[43mend\u001B[49m\u001B[38;5;241;43m=\u001B[39;49m\u001B[43mend\u001B[49m\u001B[43m,\u001B[49m\n\u001B[1;32m    374\u001B[0m \u001B[43m        \u001B[49m\u001B[43madjust_price\u001B[49m\u001B[38;5;241;43m=\u001B[39;49m\u001B[38;5;28;43;01mFalse\u001B[39;49;00m\u001B[43m,\u001B[49m\n\u001B[1;32m    375\u001B[0m \u001B[43m        \u001B[49m\u001B[43mchunksize\u001B[49m\u001B[38;5;241;43m=\u001B[39;49m\u001B[38;5;241;43m25\u001B[39;49m\u001B[43m,\u001B[49m\n\u001B[1;32m    376\u001B[0m \u001B[43m        \u001B[49m\u001B[43mretry_count\u001B[49m\u001B[38;5;241;43m=\u001B[39;49m\u001B[43mretry_count\u001B[49m\u001B[43m,\u001B[49m\n\u001B[1;32m    377\u001B[0m \u001B[43m        \u001B[49m\u001B[43mpause\u001B[49m\u001B[38;5;241;43m=\u001B[39;49m\u001B[43mpause\u001B[49m\u001B[43m,\u001B[49m\n\u001B[1;32m    378\u001B[0m \u001B[43m        \u001B[49m\u001B[43msession\u001B[49m\u001B[38;5;241;43m=\u001B[39;49m\u001B[43msession\u001B[49m\u001B[43m,\u001B[49m\n\u001B[1;32m    379\u001B[0m \u001B[43m    \u001B[49m\u001B[43m)\u001B[49m\u001B[38;5;241;43m.\u001B[39;49m\u001B[43mread\u001B[49m\u001B[43m(\u001B[49m\u001B[43m)\u001B[49m\n\u001B[1;32m    381\u001B[0m \u001B[38;5;28;01melif\u001B[39;00m data_source \u001B[38;5;241m==\u001B[39m \u001B[38;5;124m\"\u001B[39m\u001B[38;5;124miex\u001B[39m\u001B[38;5;124m\"\u001B[39m:\n\u001B[1;32m    382\u001B[0m     \u001B[38;5;28;01mreturn\u001B[39;00m IEXDailyReader(\n\u001B[1;32m    383\u001B[0m         symbols\u001B[38;5;241m=\u001B[39mname,\n\u001B[1;32m    384\u001B[0m         start\u001B[38;5;241m=\u001B[39mstart,\n\u001B[0;32m   (...)\u001B[0m\n\u001B[1;32m    390\u001B[0m         session\u001B[38;5;241m=\u001B[39msession,\n\u001B[1;32m    391\u001B[0m     )\u001B[38;5;241m.\u001B[39mread()\n",
      "File \u001B[0;32m~/.cache/pypoetry/virtualenvs/python-finance-GYfqctcg-py3.8/lib/python3.8/site-packages/pandas_datareader/base.py:253\u001B[0m, in \u001B[0;36m_DailyBaseReader.read\u001B[0;34m(self)\u001B[0m\n\u001B[1;32m    251\u001B[0m \u001B[38;5;66;03m# If a single symbol, (e.g., 'GOOG')\u001B[39;00m\n\u001B[1;32m    252\u001B[0m \u001B[38;5;28;01mif\u001B[39;00m \u001B[38;5;28misinstance\u001B[39m(\u001B[38;5;28mself\u001B[39m\u001B[38;5;241m.\u001B[39msymbols, (string_types, \u001B[38;5;28mint\u001B[39m)):\n\u001B[0;32m--> 253\u001B[0m     df \u001B[38;5;241m=\u001B[39m \u001B[38;5;28;43mself\u001B[39;49m\u001B[38;5;241;43m.\u001B[39;49m\u001B[43m_read_one_data\u001B[49m\u001B[43m(\u001B[49m\u001B[38;5;28;43mself\u001B[39;49m\u001B[38;5;241;43m.\u001B[39;49m\u001B[43murl\u001B[49m\u001B[43m,\u001B[49m\u001B[43m \u001B[49m\u001B[43mparams\u001B[49m\u001B[38;5;241;43m=\u001B[39;49m\u001B[38;5;28;43mself\u001B[39;49m\u001B[38;5;241;43m.\u001B[39;49m\u001B[43m_get_params\u001B[49m\u001B[43m(\u001B[49m\u001B[38;5;28;43mself\u001B[39;49m\u001B[38;5;241;43m.\u001B[39;49m\u001B[43msymbols\u001B[49m\u001B[43m)\u001B[49m\u001B[43m)\u001B[49m\n\u001B[1;32m    254\u001B[0m \u001B[38;5;66;03m# Or multiple symbols, (e.g., ['GOOG', 'AAPL', 'MSFT'])\u001B[39;00m\n\u001B[1;32m    255\u001B[0m \u001B[38;5;28;01melif\u001B[39;00m \u001B[38;5;28misinstance\u001B[39m(\u001B[38;5;28mself\u001B[39m\u001B[38;5;241m.\u001B[39msymbols, DataFrame):\n",
      "File \u001B[0;32m~/.cache/pypoetry/virtualenvs/python-finance-GYfqctcg-py3.8/lib/python3.8/site-packages/pandas_datareader/yahoo/daily.py:153\u001B[0m, in \u001B[0;36mYahooDailyReader._read_one_data\u001B[0;34m(self, url, params)\u001B[0m\n\u001B[1;32m    151\u001B[0m \u001B[38;5;28;01mtry\u001B[39;00m:\n\u001B[1;32m    152\u001B[0m     j \u001B[38;5;241m=\u001B[39m json\u001B[38;5;241m.\u001B[39mloads(re\u001B[38;5;241m.\u001B[39msearch(ptrn, resp\u001B[38;5;241m.\u001B[39mtext, re\u001B[38;5;241m.\u001B[39mDOTALL)\u001B[38;5;241m.\u001B[39mgroup(\u001B[38;5;241m1\u001B[39m))\n\u001B[0;32m--> 153\u001B[0m     data \u001B[38;5;241m=\u001B[39m \u001B[43mj\u001B[49m\u001B[43m[\u001B[49m\u001B[38;5;124;43m\"\u001B[39;49m\u001B[38;5;124;43mcontext\u001B[39;49m\u001B[38;5;124;43m\"\u001B[39;49m\u001B[43m]\u001B[49m\u001B[43m[\u001B[49m\u001B[38;5;124;43m\"\u001B[39;49m\u001B[38;5;124;43mdispatcher\u001B[39;49m\u001B[38;5;124;43m\"\u001B[39;49m\u001B[43m]\u001B[49m\u001B[43m[\u001B[49m\u001B[38;5;124;43m\"\u001B[39;49m\u001B[38;5;124;43mstores\u001B[39;49m\u001B[38;5;124;43m\"\u001B[39;49m\u001B[43m]\u001B[49m\u001B[43m[\u001B[49m\u001B[38;5;124;43m\"\u001B[39;49m\u001B[38;5;124;43mHistoricalPriceStore\u001B[39;49m\u001B[38;5;124;43m\"\u001B[39;49m\u001B[43m]\u001B[49m\n\u001B[1;32m    154\u001B[0m \u001B[38;5;28;01mexcept\u001B[39;00m \u001B[38;5;167;01mKeyError\u001B[39;00m:\n\u001B[1;32m    155\u001B[0m     msg \u001B[38;5;241m=\u001B[39m \u001B[38;5;124m\"\u001B[39m\u001B[38;5;124mNo data fetched for symbol \u001B[39m\u001B[38;5;132;01m{}\u001B[39;00m\u001B[38;5;124m using \u001B[39m\u001B[38;5;132;01m{}\u001B[39;00m\u001B[38;5;124m\"\u001B[39m\n",
      "\u001B[0;31mTypeError\u001B[0m: string indices must be integers"
     ]
    }
   ],
   "source": [
    "# test datareader failed\n",
    "df = web.DataReader(\"TSLA\", 'yahoo', start, end)"
   ],
   "metadata": {
    "collapsed": false
   }
  },
  {
   "cell_type": "code",
   "execution_count": 24,
   "outputs": [
    {
     "name": "stdout",
     "output_type": "stream",
     "text": [
      "[*********************100%***********************]  1 of 1 completed\n"
     ]
    }
   ],
   "source": [
    "alstom_df=yf.download(alstom,start,end)"
   ],
   "metadata": {
    "collapsed": false
   }
  },
  {
   "cell_type": "markdown",
   "source": [
    "### 1.1 Explore the data"
   ],
   "metadata": {
    "collapsed": false
   }
  },
  {
   "cell_type": "code",
   "execution_count": 25,
   "outputs": [
    {
     "data": {
      "text/plain": "                 Open       High        Low      Close  Adj Close   Volume\nDate                                                                      \n2015-01-02  26.900000  27.100000  26.650000  26.875000  22.656872   676180\n2015-01-05  26.705000  27.020000  26.129999  26.200001  22.087814  1092679\n2015-01-06  26.145000  26.655001  25.955000  26.215000  22.100460  1281398\n2015-01-07  26.250000  26.775000  25.955000  26.525000  22.361805   997854\n2015-01-08  26.809999  27.215000  26.730000  27.004999  22.766466  1256792",
      "text/html": "<div>\n<style scoped>\n    .dataframe tbody tr th:only-of-type {\n        vertical-align: middle;\n    }\n\n    .dataframe tbody tr th {\n        vertical-align: top;\n    }\n\n    .dataframe thead th {\n        text-align: right;\n    }\n</style>\n<table border=\"1\" class=\"dataframe\">\n  <thead>\n    <tr style=\"text-align: right;\">\n      <th></th>\n      <th>Open</th>\n      <th>High</th>\n      <th>Low</th>\n      <th>Close</th>\n      <th>Adj Close</th>\n      <th>Volume</th>\n    </tr>\n    <tr>\n      <th>Date</th>\n      <th></th>\n      <th></th>\n      <th></th>\n      <th></th>\n      <th></th>\n      <th></th>\n    </tr>\n  </thead>\n  <tbody>\n    <tr>\n      <th>2015-01-02</th>\n      <td>26.900000</td>\n      <td>27.100000</td>\n      <td>26.650000</td>\n      <td>26.875000</td>\n      <td>22.656872</td>\n      <td>676180</td>\n    </tr>\n    <tr>\n      <th>2015-01-05</th>\n      <td>26.705000</td>\n      <td>27.020000</td>\n      <td>26.129999</td>\n      <td>26.200001</td>\n      <td>22.087814</td>\n      <td>1092679</td>\n    </tr>\n    <tr>\n      <th>2015-01-06</th>\n      <td>26.145000</td>\n      <td>26.655001</td>\n      <td>25.955000</td>\n      <td>26.215000</td>\n      <td>22.100460</td>\n      <td>1281398</td>\n    </tr>\n    <tr>\n      <th>2015-01-07</th>\n      <td>26.250000</td>\n      <td>26.775000</td>\n      <td>25.955000</td>\n      <td>26.525000</td>\n      <td>22.361805</td>\n      <td>997854</td>\n    </tr>\n    <tr>\n      <th>2015-01-08</th>\n      <td>26.809999</td>\n      <td>27.215000</td>\n      <td>26.730000</td>\n      <td>27.004999</td>\n      <td>22.766466</td>\n      <td>1256792</td>\n    </tr>\n  </tbody>\n</table>\n</div>"
     },
     "execution_count": 25,
     "metadata": {},
     "output_type": "execute_result"
    }
   ],
   "source": [
    "# show the first 5 lines\n",
    "alstom_df.head()"
   ],
   "metadata": {
    "collapsed": false
   }
  },
  {
   "cell_type": "code",
   "execution_count": 26,
   "outputs": [
    {
     "data": {
      "text/plain": "                 Open       High        Low      Close  Adj Close   Volume\nDate                                                                      \n2023-08-02  26.879999  27.100000  26.549999  26.910000  26.910000  1074841\n2023-08-03  26.600000  26.780001  26.379999  26.559999  26.559999   692961\n2023-08-04  26.629999  26.879999  26.330000  26.719999  26.719999   633930\n2023-08-08  26.200001  26.350000  25.740000  26.000000  26.000000   754418\n2023-08-09  26.370001  26.580000  26.139999  26.139999  26.139999   676471",
      "text/html": "<div>\n<style scoped>\n    .dataframe tbody tr th:only-of-type {\n        vertical-align: middle;\n    }\n\n    .dataframe tbody tr th {\n        vertical-align: top;\n    }\n\n    .dataframe thead th {\n        text-align: right;\n    }\n</style>\n<table border=\"1\" class=\"dataframe\">\n  <thead>\n    <tr style=\"text-align: right;\">\n      <th></th>\n      <th>Open</th>\n      <th>High</th>\n      <th>Low</th>\n      <th>Close</th>\n      <th>Adj Close</th>\n      <th>Volume</th>\n    </tr>\n    <tr>\n      <th>Date</th>\n      <th></th>\n      <th></th>\n      <th></th>\n      <th></th>\n      <th></th>\n      <th></th>\n    </tr>\n  </thead>\n  <tbody>\n    <tr>\n      <th>2023-08-02</th>\n      <td>26.879999</td>\n      <td>27.100000</td>\n      <td>26.549999</td>\n      <td>26.910000</td>\n      <td>26.910000</td>\n      <td>1074841</td>\n    </tr>\n    <tr>\n      <th>2023-08-03</th>\n      <td>26.600000</td>\n      <td>26.780001</td>\n      <td>26.379999</td>\n      <td>26.559999</td>\n      <td>26.559999</td>\n      <td>692961</td>\n    </tr>\n    <tr>\n      <th>2023-08-04</th>\n      <td>26.629999</td>\n      <td>26.879999</td>\n      <td>26.330000</td>\n      <td>26.719999</td>\n      <td>26.719999</td>\n      <td>633930</td>\n    </tr>\n    <tr>\n      <th>2023-08-08</th>\n      <td>26.200001</td>\n      <td>26.350000</td>\n      <td>25.740000</td>\n      <td>26.000000</td>\n      <td>26.000000</td>\n      <td>754418</td>\n    </tr>\n    <tr>\n      <th>2023-08-09</th>\n      <td>26.370001</td>\n      <td>26.580000</td>\n      <td>26.139999</td>\n      <td>26.139999</td>\n      <td>26.139999</td>\n      <td>676471</td>\n    </tr>\n  </tbody>\n</table>\n</div>"
     },
     "execution_count": 26,
     "metadata": {},
     "output_type": "execute_result"
    }
   ],
   "source": [
    "# show the last 5 lines\n",
    "alstom_df.tail()"
   ],
   "metadata": {
    "collapsed": false
   }
  },
  {
   "cell_type": "code",
   "execution_count": 27,
   "outputs": [
    {
     "data": {
      "text/plain": "(2203, 6)"
     },
     "execution_count": 27,
     "metadata": {},
     "output_type": "execute_result"
    }
   ],
   "source": [
    "alstom_df.shape"
   ],
   "metadata": {
    "collapsed": false
   }
  },
  {
   "cell_type": "code",
   "execution_count": 28,
   "outputs": [
    {
     "name": "stdout",
     "output_type": "stream",
     "text": [
      "Index(['Open', 'High', 'Low', 'Close', 'Adj Close', 'Volume'], dtype='object')\n"
     ]
    }
   ],
   "source": [
    "# get the column names\n",
    "print(alstom_df.columns)"
   ],
   "metadata": {
    "collapsed": false
   }
  },
  {
   "cell_type": "code",
   "execution_count": 29,
   "outputs": [
    {
     "name": "stdout",
     "output_type": "stream",
     "text": [
      "<class 'pandas.core.frame.DataFrame'>\n",
      "DatetimeIndex: 2203 entries, 2015-01-02 to 2023-08-09\n",
      "Data columns (total 6 columns):\n",
      " #   Column     Non-Null Count  Dtype  \n",
      "---  ------     --------------  -----  \n",
      " 0   Open       2203 non-null   float64\n",
      " 1   High       2203 non-null   float64\n",
      " 2   Low        2203 non-null   float64\n",
      " 3   Close      2203 non-null   float64\n",
      " 4   Adj Close  2203 non-null   float64\n",
      " 5   Volume     2203 non-null   int64  \n",
      "dtypes: float64(5), int64(1)\n",
      "memory usage: 120.5 KB\n"
     ]
    }
   ],
   "source": [
    "# this shows the schema of the dataframe\n",
    "alstom_df.info()"
   ],
   "metadata": {
    "collapsed": false
   }
  },
  {
   "cell_type": "markdown",
   "source": [
    "> Unlike spark df, the pandas df has the notion of index. In the above example, the index is date column which has type Datetime"
   ],
   "metadata": {
    "collapsed": false
   }
  },
  {
   "cell_type": "markdown",
   "source": [
    "## Step 2. Basic pandas time series functions\n",
    "\n",
    "In section 3 EDA, we will use some pandas functions which you may not familiar, here we examine them first.\n",
    "The pandas dataframe provide a list of useful functions which can help us to explore the data\n",
    "- rolling\n",
    "- ewm (Exponentially Weighted Moving)\n",
    "\n",
    "\n",
    "### 2.1 Rolling function\n",
    "\n",
    "The rolling function is used for calculating `rolling statistics` over a specified window of data.\n",
    "\n",
    "Below query will calculate the 7-day rolling average of the closing price"
   ],
   "metadata": {
    "collapsed": false
   }
  },
  {
   "cell_type": "code",
   "execution_count": 30,
   "outputs": [],
   "source": [
    "rolling_avg = alstom_df[\"Close\"].rolling(window=7).mean()"
   ],
   "metadata": {
    "collapsed": false
   }
  },
  {
   "cell_type": "code",
   "execution_count": 31,
   "outputs": [
    {
     "data": {
      "text/plain": "Date\n2015-01-02          NaN\n2015-01-05          NaN\n2015-01-06          NaN\n2015-01-07          NaN\n2015-01-08          NaN\n2015-01-09          NaN\n2015-01-12    26.660000\n2015-01-13    26.726429\n2015-01-14    26.813571\n2015-01-15    26.910714\nName: Close, dtype: float64"
     },
     "execution_count": 31,
     "metadata": {},
     "output_type": "execute_result"
    }
   ],
   "source": [
    "rolling_avg.head(10)"
   ],
   "metadata": {
    "collapsed": false
   }
  },
  {
   "cell_type": "markdown",
   "source": [
    "There are two things that worth to mention:\n",
    "1. The first 6 days have `NaN values` since there is not enough data to calculate a 7-day rolling average. Starting from the 7th day, it will show the rolling average for each subsequent day.\n",
    "2. The rolling is based on the index, as we use date as index, so window = 7 means 7 day. If the index is year such as 2010, 2011, it will be interpreted as 7 years"
   ],
   "metadata": {
    "collapsed": false
   }
  },
  {
   "cell_type": "markdown",
   "source": [
    "## 2.2 Exponentially Weighted Moving\n",
    "\n",
    "This function is often used to calculate exponentially weighted statistics for a given data series. It is commonly used for smoothing and analyzing `time series data`.\n",
    "\n",
    "**Exponentially weighted moving averages give more weight to recent observations while gradually decreasing the weight of older observations. This can be useful for capturing trends and patterns in data while reducing the impact of random fluctuations or noise.**"
   ],
   "metadata": {
    "collapsed": false
   }
  },
  {
   "cell_type": "code",
   "execution_count": 32,
   "outputs": [],
   "source": [
    "alstom_df['ewm'] = alstom_df['Adj Close'].ewm(span=20,\n",
    "                                              min_periods=0,\n",
    "                                              adjust=False,\n",
    "                                              ignore_na=False).mean()"
   ],
   "metadata": {
    "collapsed": false
   }
  },
  {
   "cell_type": "code",
   "execution_count": 33,
   "outputs": [
    {
     "data": {
      "text/plain": "                 Open       High        Low      Close  Adj Close   Volume  \\\nDate                                                                         \n2015-01-02  26.900000  27.100000  26.650000  26.875000  22.656872   676180   \n2015-01-05  26.705000  27.020000  26.129999  26.200001  22.087814  1092679   \n2015-01-06  26.145000  26.655001  25.955000  26.215000  22.100460  1281398   \n2015-01-07  26.250000  26.775000  25.955000  26.525000  22.361805   997854   \n2015-01-08  26.809999  27.215000  26.730000  27.004999  22.766466  1256792   \n2015-01-09  27.000000  27.174999  26.705000  26.825001  22.614721   667945   \n2015-01-12  26.879999  27.260000  26.785000  26.975000  22.741175   632136   \n2015-01-13  26.930000  27.645000  26.840000  27.340000  23.048887   975225   \n2015-01-14  27.010000  27.225000  26.610001  26.809999  22.602074   993274   \n2015-01-15  26.969999  27.155001  26.200001  26.895000  22.673735  1249846   \n\n                  ewm  \nDate                   \n2015-01-02  22.656872  \n2015-01-05  22.602676  \n2015-01-06  22.554846  \n2015-01-07  22.536461  \n2015-01-08  22.558366  \n2015-01-09  22.563733  \n2015-01-12  22.580633  \n2015-01-13  22.625228  \n2015-01-14  22.623023  \n2015-01-15  22.627853  ",
      "text/html": "<div>\n<style scoped>\n    .dataframe tbody tr th:only-of-type {\n        vertical-align: middle;\n    }\n\n    .dataframe tbody tr th {\n        vertical-align: top;\n    }\n\n    .dataframe thead th {\n        text-align: right;\n    }\n</style>\n<table border=\"1\" class=\"dataframe\">\n  <thead>\n    <tr style=\"text-align: right;\">\n      <th></th>\n      <th>Open</th>\n      <th>High</th>\n      <th>Low</th>\n      <th>Close</th>\n      <th>Adj Close</th>\n      <th>Volume</th>\n      <th>ewm</th>\n    </tr>\n    <tr>\n      <th>Date</th>\n      <th></th>\n      <th></th>\n      <th></th>\n      <th></th>\n      <th></th>\n      <th></th>\n      <th></th>\n    </tr>\n  </thead>\n  <tbody>\n    <tr>\n      <th>2015-01-02</th>\n      <td>26.900000</td>\n      <td>27.100000</td>\n      <td>26.650000</td>\n      <td>26.875000</td>\n      <td>22.656872</td>\n      <td>676180</td>\n      <td>22.656872</td>\n    </tr>\n    <tr>\n      <th>2015-01-05</th>\n      <td>26.705000</td>\n      <td>27.020000</td>\n      <td>26.129999</td>\n      <td>26.200001</td>\n      <td>22.087814</td>\n      <td>1092679</td>\n      <td>22.602676</td>\n    </tr>\n    <tr>\n      <th>2015-01-06</th>\n      <td>26.145000</td>\n      <td>26.655001</td>\n      <td>25.955000</td>\n      <td>26.215000</td>\n      <td>22.100460</td>\n      <td>1281398</td>\n      <td>22.554846</td>\n    </tr>\n    <tr>\n      <th>2015-01-07</th>\n      <td>26.250000</td>\n      <td>26.775000</td>\n      <td>25.955000</td>\n      <td>26.525000</td>\n      <td>22.361805</td>\n      <td>997854</td>\n      <td>22.536461</td>\n    </tr>\n    <tr>\n      <th>2015-01-08</th>\n      <td>26.809999</td>\n      <td>27.215000</td>\n      <td>26.730000</td>\n      <td>27.004999</td>\n      <td>22.766466</td>\n      <td>1256792</td>\n      <td>22.558366</td>\n    </tr>\n    <tr>\n      <th>2015-01-09</th>\n      <td>27.000000</td>\n      <td>27.174999</td>\n      <td>26.705000</td>\n      <td>26.825001</td>\n      <td>22.614721</td>\n      <td>667945</td>\n      <td>22.563733</td>\n    </tr>\n    <tr>\n      <th>2015-01-12</th>\n      <td>26.879999</td>\n      <td>27.260000</td>\n      <td>26.785000</td>\n      <td>26.975000</td>\n      <td>22.741175</td>\n      <td>632136</td>\n      <td>22.580633</td>\n    </tr>\n    <tr>\n      <th>2015-01-13</th>\n      <td>26.930000</td>\n      <td>27.645000</td>\n      <td>26.840000</td>\n      <td>27.340000</td>\n      <td>23.048887</td>\n      <td>975225</td>\n      <td>22.625228</td>\n    </tr>\n    <tr>\n      <th>2015-01-14</th>\n      <td>27.010000</td>\n      <td>27.225000</td>\n      <td>26.610001</td>\n      <td>26.809999</td>\n      <td>22.602074</td>\n      <td>993274</td>\n      <td>22.623023</td>\n    </tr>\n    <tr>\n      <th>2015-01-15</th>\n      <td>26.969999</td>\n      <td>27.155001</td>\n      <td>26.200001</td>\n      <td>26.895000</td>\n      <td>22.673735</td>\n      <td>1249846</td>\n      <td>22.627853</td>\n    </tr>\n  </tbody>\n</table>\n</div>"
     },
     "execution_count": 33,
     "metadata": {},
     "output_type": "execute_result"
    }
   ],
   "source": [
    "alstom_df.head(10)"
   ],
   "metadata": {
    "collapsed": false
   }
  },
  {
   "cell_type": "markdown",
   "source": [
    "The **span** parameter is called the `smoothing parameter`. It defines the weight difference of more recent and less recent observations. The formula of the weight calculation is : **Weight = 2 / (span + 1)**\n",
    "\n",
    "For example, if we specify `span=3`, it means that the most recent observation is given the highest weight (e.g., approximately 0.5), the observation before that is given a lower weight (e.g., approximately 0.25), and the observation before that is given an even lower weight (e.g., approximately 0.125).\n",
    "\n",
    "The **number of observations included in the calculation** of the EWMA is calculated with below formula:\n",
    "**Number of Observations = 2 * span - 1**\n",
    "\n",
    "In our example, we take span =20, so we have `Number of Observations = 2 * 20 - 1 = 39`"
   ],
   "metadata": {
    "collapsed": false
   }
  }
 ],
 "metadata": {
  "kernelspec": {
   "display_name": "Python 3",
   "language": "python",
   "name": "python3"
  },
  "language_info": {
   "codemirror_mode": {
    "name": "ipython",
    "version": 2
   },
   "file_extension": ".py",
   "mimetype": "text/x-python",
   "name": "python",
   "nbconvert_exporter": "python",
   "pygments_lexer": "ipython2",
   "version": "2.7.6"
  }
 },
 "nbformat": 4,
 "nbformat_minor": 0
}
