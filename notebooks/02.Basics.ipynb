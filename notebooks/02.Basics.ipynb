{
 "cells": [
  {
   "cell_type": "code",
   "execution_count": 1,
   "metadata": {
    "collapsed": true
   },
   "outputs": [
    {
     "ename": "AttributeError",
     "evalue": "'Ticker' object has no attribute 'tickers'",
     "output_type": "error",
     "traceback": [
      "\u001B[0;31m---------------------------------------------------------------------------\u001B[0m",
      "\u001B[0;31mAttributeError\u001B[0m                            Traceback (most recent call last)",
      "Cell \u001B[0;32mIn[1], line 22\u001B[0m\n\u001B[1;32m     20\u001B[0m \u001B[38;5;66;03m# Get stock symbols from the Paris Euronext exchange\u001B[39;00m\n\u001B[1;32m     21\u001B[0m exchange \u001B[38;5;241m=\u001B[39m \u001B[38;5;124m'\u001B[39m\u001B[38;5;124mPAR\u001B[39m\u001B[38;5;124m'\u001B[39m\n\u001B[0;32m---> 22\u001B[0m stock_symbols \u001B[38;5;241m=\u001B[39m \u001B[43mget_stock_symbols\u001B[49m\u001B[43m(\u001B[49m\u001B[43mexchange\u001B[49m\u001B[43m)\u001B[49m\n\u001B[1;32m     23\u001B[0m french_stocks \u001B[38;5;241m=\u001B[39m filter_french_stocks(stock_symbols)\n\u001B[1;32m     25\u001B[0m \u001B[38;5;28mprint\u001B[39m(french_stocks)\n",
      "Cell \u001B[0;32mIn[1], line 5\u001B[0m, in \u001B[0;36mget_stock_symbols\u001B[0;34m(exchange)\u001B[0m\n\u001B[1;32m      4\u001B[0m \u001B[38;5;28;01mdef\u001B[39;00m \u001B[38;5;21mget_stock_symbols\u001B[39m(exchange):\n\u001B[0;32m----> 5\u001B[0m     exchange_symbols \u001B[38;5;241m=\u001B[39m \u001B[43myf\u001B[49m\u001B[38;5;241;43m.\u001B[39;49m\u001B[43mTicker\u001B[49m\u001B[43m(\u001B[49m\u001B[38;5;124;43mf\u001B[39;49m\u001B[38;5;124;43m'\u001B[39;49m\u001B[38;5;124;43m^\u001B[39;49m\u001B[38;5;132;43;01m{\u001B[39;49;00m\u001B[43mexchange\u001B[49m\u001B[38;5;132;43;01m}\u001B[39;49;00m\u001B[38;5;124;43m'\u001B[39;49m\u001B[43m)\u001B[49m\u001B[38;5;241;43m.\u001B[39;49m\u001B[43mtickers\u001B[49m\n\u001B[1;32m      6\u001B[0m     \u001B[38;5;28;01mreturn\u001B[39;00m [symbol\u001B[38;5;241m.\u001B[39minfo[\u001B[38;5;124m'\u001B[39m\u001B[38;5;124msymbol\u001B[39m\u001B[38;5;124m'\u001B[39m] \u001B[38;5;28;01mfor\u001B[39;00m symbol \u001B[38;5;129;01min\u001B[39;00m exchange_symbols]\n",
      "\u001B[0;31mAttributeError\u001B[0m: 'Ticker' object has no attribute 'tickers'"
     ]
    }
   ],
   "source": []
  },
  {
   "cell_type": "code",
   "execution_count": 33,
   "outputs": [],
   "source": [
    "import pandas as pd\n",
    "import yfinance as yf\n",
    "import datetime"
   ],
   "metadata": {
    "collapsed": false
   }
  },
  {
   "cell_type": "code",
   "execution_count": null,
   "outputs": [],
   "source": [
    "# the objective is"
   ],
   "metadata": {
    "collapsed": false
   }
  },
  {
   "cell_type": "code",
   "execution_count": 8,
   "outputs": [
    {
     "name": "stdout",
     "output_type": "stream",
     "text": [
      "[*********************100%***********************]  1 of 1 completed\n"
     ]
    }
   ],
   "source": [
    "ticker = \"ALO.PA\"\n",
    "df = yf.download(ticker,start=\"2020-01-01\")"
   ],
   "metadata": {
    "collapsed": false
   }
  },
  {
   "cell_type": "code",
   "execution_count": 9,
   "outputs": [
    {
     "data": {
      "text/plain": "                 Open       High        Low      Close  Adj Close   Volume\nDate                                                                      \n2020-01-02  42.270000  42.790001  42.240002  42.580002  41.451309   351895\n2020-01-03  42.220001  42.639999  42.209999  42.639999  41.509720   337753\n2020-01-06  42.439999  42.590000  41.849998  42.220001  41.100857   449260\n2020-01-07  42.230000  42.720001  42.200001  42.500000  41.373428   411762\n2020-01-08  43.119999  43.560001  43.000000  43.310001  42.161961   765403\n2020-01-09  43.599998  43.720001  42.980000  43.169998  42.025669   578042\n2020-01-10  43.230000  43.480000  43.060001  43.090000  41.947792   466355\n2020-01-13  43.279999  43.939999  43.099998  43.549999  42.395596   672950\n2020-01-14  43.590000  44.139999  43.290001  44.040001  42.872608   647802\n2020-01-15  43.950001  44.189999  43.669998  44.189999  43.018635   658196\n2020-01-16  42.939999  44.919998  42.669998  44.740002  43.554054  1292337\n2020-01-17  45.000000  45.580002  44.770000  45.459999  44.254967   873157\n2020-01-20  45.500000  45.630001  45.130001  45.400002  44.196560   496622\n2020-01-21  45.209999  45.279999  44.860001  45.200001  44.001862   556011\n2020-01-22  46.000000  46.419998  45.650002  46.040001  44.819595  1193198\n2020-01-23  45.779999  46.480000  45.680000  46.450001  45.218727  1106304\n2020-01-24  46.500000  47.259998  46.450001  47.119999  45.870964  1029629\n2020-01-27  46.810001  46.869999  46.070000  46.549999  45.316074   852199\n2020-01-28  46.540001  46.849998  46.000000  46.560001  45.325813   688856\n2020-01-29  46.840000  47.910000  46.509998  47.759998  46.493999   930389",
      "text/html": "<div>\n<style scoped>\n    .dataframe tbody tr th:only-of-type {\n        vertical-align: middle;\n    }\n\n    .dataframe tbody tr th {\n        vertical-align: top;\n    }\n\n    .dataframe thead th {\n        text-align: right;\n    }\n</style>\n<table border=\"1\" class=\"dataframe\">\n  <thead>\n    <tr style=\"text-align: right;\">\n      <th></th>\n      <th>Open</th>\n      <th>High</th>\n      <th>Low</th>\n      <th>Close</th>\n      <th>Adj Close</th>\n      <th>Volume</th>\n    </tr>\n    <tr>\n      <th>Date</th>\n      <th></th>\n      <th></th>\n      <th></th>\n      <th></th>\n      <th></th>\n      <th></th>\n    </tr>\n  </thead>\n  <tbody>\n    <tr>\n      <th>2020-01-02</th>\n      <td>42.270000</td>\n      <td>42.790001</td>\n      <td>42.240002</td>\n      <td>42.580002</td>\n      <td>41.451309</td>\n      <td>351895</td>\n    </tr>\n    <tr>\n      <th>2020-01-03</th>\n      <td>42.220001</td>\n      <td>42.639999</td>\n      <td>42.209999</td>\n      <td>42.639999</td>\n      <td>41.509720</td>\n      <td>337753</td>\n    </tr>\n    <tr>\n      <th>2020-01-06</th>\n      <td>42.439999</td>\n      <td>42.590000</td>\n      <td>41.849998</td>\n      <td>42.220001</td>\n      <td>41.100857</td>\n      <td>449260</td>\n    </tr>\n    <tr>\n      <th>2020-01-07</th>\n      <td>42.230000</td>\n      <td>42.720001</td>\n      <td>42.200001</td>\n      <td>42.500000</td>\n      <td>41.373428</td>\n      <td>411762</td>\n    </tr>\n    <tr>\n      <th>2020-01-08</th>\n      <td>43.119999</td>\n      <td>43.560001</td>\n      <td>43.000000</td>\n      <td>43.310001</td>\n      <td>42.161961</td>\n      <td>765403</td>\n    </tr>\n    <tr>\n      <th>2020-01-09</th>\n      <td>43.599998</td>\n      <td>43.720001</td>\n      <td>42.980000</td>\n      <td>43.169998</td>\n      <td>42.025669</td>\n      <td>578042</td>\n    </tr>\n    <tr>\n      <th>2020-01-10</th>\n      <td>43.230000</td>\n      <td>43.480000</td>\n      <td>43.060001</td>\n      <td>43.090000</td>\n      <td>41.947792</td>\n      <td>466355</td>\n    </tr>\n    <tr>\n      <th>2020-01-13</th>\n      <td>43.279999</td>\n      <td>43.939999</td>\n      <td>43.099998</td>\n      <td>43.549999</td>\n      <td>42.395596</td>\n      <td>672950</td>\n    </tr>\n    <tr>\n      <th>2020-01-14</th>\n      <td>43.590000</td>\n      <td>44.139999</td>\n      <td>43.290001</td>\n      <td>44.040001</td>\n      <td>42.872608</td>\n      <td>647802</td>\n    </tr>\n    <tr>\n      <th>2020-01-15</th>\n      <td>43.950001</td>\n      <td>44.189999</td>\n      <td>43.669998</td>\n      <td>44.189999</td>\n      <td>43.018635</td>\n      <td>658196</td>\n    </tr>\n    <tr>\n      <th>2020-01-16</th>\n      <td>42.939999</td>\n      <td>44.919998</td>\n      <td>42.669998</td>\n      <td>44.740002</td>\n      <td>43.554054</td>\n      <td>1292337</td>\n    </tr>\n    <tr>\n      <th>2020-01-17</th>\n      <td>45.000000</td>\n      <td>45.580002</td>\n      <td>44.770000</td>\n      <td>45.459999</td>\n      <td>44.254967</td>\n      <td>873157</td>\n    </tr>\n    <tr>\n      <th>2020-01-20</th>\n      <td>45.500000</td>\n      <td>45.630001</td>\n      <td>45.130001</td>\n      <td>45.400002</td>\n      <td>44.196560</td>\n      <td>496622</td>\n    </tr>\n    <tr>\n      <th>2020-01-21</th>\n      <td>45.209999</td>\n      <td>45.279999</td>\n      <td>44.860001</td>\n      <td>45.200001</td>\n      <td>44.001862</td>\n      <td>556011</td>\n    </tr>\n    <tr>\n      <th>2020-01-22</th>\n      <td>46.000000</td>\n      <td>46.419998</td>\n      <td>45.650002</td>\n      <td>46.040001</td>\n      <td>44.819595</td>\n      <td>1193198</td>\n    </tr>\n    <tr>\n      <th>2020-01-23</th>\n      <td>45.779999</td>\n      <td>46.480000</td>\n      <td>45.680000</td>\n      <td>46.450001</td>\n      <td>45.218727</td>\n      <td>1106304</td>\n    </tr>\n    <tr>\n      <th>2020-01-24</th>\n      <td>46.500000</td>\n      <td>47.259998</td>\n      <td>46.450001</td>\n      <td>47.119999</td>\n      <td>45.870964</td>\n      <td>1029629</td>\n    </tr>\n    <tr>\n      <th>2020-01-27</th>\n      <td>46.810001</td>\n      <td>46.869999</td>\n      <td>46.070000</td>\n      <td>46.549999</td>\n      <td>45.316074</td>\n      <td>852199</td>\n    </tr>\n    <tr>\n      <th>2020-01-28</th>\n      <td>46.540001</td>\n      <td>46.849998</td>\n      <td>46.000000</td>\n      <td>46.560001</td>\n      <td>45.325813</td>\n      <td>688856</td>\n    </tr>\n    <tr>\n      <th>2020-01-29</th>\n      <td>46.840000</td>\n      <td>47.910000</td>\n      <td>46.509998</td>\n      <td>47.759998</td>\n      <td>46.493999</td>\n      <td>930389</td>\n    </tr>\n  </tbody>\n</table>\n</div>"
     },
     "execution_count": 9,
     "metadata": {},
     "output_type": "execute_result"
    }
   ],
   "source": [
    "df.head(20)"
   ],
   "metadata": {
    "collapsed": false
   }
  },
  {
   "cell_type": "code",
   "execution_count": 10,
   "outputs": [
    {
     "data": {
      "text/plain": "(925, 6)"
     },
     "execution_count": 10,
     "metadata": {},
     "output_type": "execute_result"
    }
   ],
   "source": [
    "df.shape"
   ],
   "metadata": {
    "collapsed": false
   }
  },
  {
   "cell_type": "code",
   "execution_count": 18,
   "outputs": [],
   "source": [
    "stock = yf.Ticker(ticker)"
   ],
   "metadata": {
    "collapsed": false
   }
  },
  {
   "cell_type": "code",
   "execution_count": 28,
   "outputs": [
    {
     "name": "stdout",
     "output_type": "stream",
     "text": [
      "dividend Date\n",
      "2006-05-15 00:00:00+02:00    0.226018\n",
      "2007-07-05 00:00:00+02:00    0.370902\n",
      "2008-06-26 00:00:00+02:00    0.741804\n",
      "2009-06-25 00:00:00+02:00    1.038526\n",
      "2010-06-24 00:00:00+02:00    1.149796\n",
      "2011-06-30 00:00:00+02:00    0.574898\n",
      "2012-06-28 00:00:00+02:00    0.741804\n",
      "2013-07-04 00:00:00+02:00    0.778894\n",
      "2017-07-07 00:00:00+02:00    0.231814\n",
      "2018-07-20 00:00:00+02:00    0.324539\n",
      "2019-07-15 00:00:00+02:00    5.099902\n",
      "2021-08-02 00:00:00+02:00    0.250000\n",
      "2022-07-20 00:00:00+02:00    0.250000\n",
      "2023-07-17 00:00:00+02:00    0.250000\n",
      "Name: Dividends, dtype: float64\n"
     ]
    }
   ],
   "source": [
    "div = stock.dividends\n",
    "print(f\"dividend {div}\")"
   ],
   "metadata": {
    "collapsed": false
   }
  },
  {
   "cell_type": "code",
   "execution_count": 36,
   "outputs": [],
   "source": [
    "def getDividendYield(stockTicker:str, currentYear:int=None):\n",
    "    stock = yf.Ticker(stockTicker)\n",
    "    if not currentYear:\n",
    "        currentYear=datetime.datetime.now().year\n",
    "\n",
    "    currentDiv = stock.dividends[stock.dividends.index.year == currentYear][0]\n",
    "    currentPrice = stock.history(period=\"1d\")[\"Close\"][0]\n",
    "    divYield = currentDiv / currentPrice\n",
    "    print(f\"The dividendYield of {stockTicker} at year {currentYear} is: {divYield}\")\n"
   ],
   "metadata": {
    "collapsed": false
   }
  },
  {
   "cell_type": "code",
   "execution_count": 35,
   "outputs": [
    {
     "name": "stdout",
     "output_type": "stream",
     "text": [
      "The dividendYield of year 2023 is: 0.009531071458748696\n"
     ]
    }
   ],
   "source": [
    "getDividendYield(ticker)"
   ],
   "metadata": {
    "collapsed": false
   }
  },
  {
   "cell_type": "code",
   "execution_count": 37,
   "outputs": [
    {
     "name": "stdout",
     "output_type": "stream",
     "text": [
      "The dividendYield of OR.PA at year 2023 is: 0.014778325123152709\n"
     ]
    }
   ],
   "source": [
    "getDividendYield(\"OR.PA\")"
   ],
   "metadata": {
    "collapsed": false
   }
  },
  {
   "cell_type": "code",
   "execution_count": 39,
   "outputs": [
    {
     "name": "stdout",
     "output_type": "stream",
     "text": [
      "The dividendYield of SCR.PA at year 2023 is: 0.05005363011687881\n"
     ]
    }
   ],
   "source": [
    "getDividendYield(\"SCR.PA\")"
   ],
   "metadata": {
    "collapsed": false
   }
  },
  {
   "cell_type": "code",
   "execution_count": null,
   "outputs": [],
   "source": [],
   "metadata": {
    "collapsed": false
   }
  }
 ],
 "metadata": {
  "kernelspec": {
   "display_name": "Python 3",
   "language": "python",
   "name": "python3"
  },
  "language_info": {
   "codemirror_mode": {
    "name": "ipython",
    "version": 2
   },
   "file_extension": ".py",
   "mimetype": "text/x-python",
   "name": "python",
   "nbconvert_exporter": "python",
   "pygments_lexer": "ipython2",
   "version": "2.7.6"
  }
 },
 "nbformat": 4,
 "nbformat_minor": 0
}
