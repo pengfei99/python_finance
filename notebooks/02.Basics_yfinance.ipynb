{
 "cells": [
  {
   "cell_type": "markdown",
   "source": [
    "# Use yfinance to analyse stock market\n",
    "\n",
    "In this tutorial, we will use yfinance to analyse stock."
   ],
   "metadata": {
    "collapsed": false
   }
  },
  {
   "cell_type": "code",
   "source": [
    "import pandas as pd\n",
    "import yfinance as yf\n",
    "import datetime"
   ],
   "metadata": {
    "collapsed": false,
    "ExecuteTime": {
     "end_time": "2025-02-06T13:00:20.835402Z",
     "start_time": "2025-02-06T13:00:20.207450Z"
    }
   },
   "outputs": [],
   "execution_count": 1
  },
  {
   "cell_type": "markdown",
   "source": [
    "## 1. Know the basics of a stock\n",
    "\n",
    "The objective is to get the basic information about a stock\n"
   ],
   "metadata": {
    "collapsed": false
   }
  },
  {
   "cell_type": "code",
   "source": [
    "alo = \"ALO.PA\"\n",
    "scor = \"SCR.PA\"\n",
    "axa = \"CS.PA\"\n",
    "sg=\"GLE.PA\""
   ],
   "metadata": {
    "collapsed": false,
    "ExecuteTime": {
     "end_time": "2025-02-06T13:00:25.428973Z",
     "start_time": "2025-02-06T13:00:25.419713Z"
    }
   },
   "outputs": [],
   "execution_count": 2
  },
  {
   "cell_type": "code",
   "source": [
    "alo_stock = yf.Ticker(alo)\n",
    "\n",
    "# stock.info returns a dict which contains many useful information\n",
    "\n",
    "for key, value in alo_stock.info.items():\n",
    "    print(f\"{key}: {value}\")"
   ],
   "metadata": {
    "collapsed": false,
    "ExecuteTime": {
     "end_time": "2025-02-06T13:00:27.234299Z",
     "start_time": "2025-02-06T13:00:26.778142Z"
    }
   },
   "outputs": [
    {
     "name": "stdout",
     "output_type": "stream",
     "text": [
      "address1: 48, rue Albert Dhalenne\n",
      "city: Saint-Ouen\n",
      "zip: 93400\n",
      "country: France\n",
      "phone: 33 1 57 06 90 00\n",
      "website: https://www.alstom.com/\n",
      "industry: Railroads\n",
      "industryKey: railroads\n",
      "industryDisp: Railroads\n",
      "sector: Industrials\n",
      "sectorKey: industrials\n",
      "sectorDisp: Industrials\n",
      "longBusinessSummary: Alstom SA provides solutions for rail transport industry in Europe, the Americas, Asia and Pacific, the Middle East, Central Asia, and Africa. The company offers rolling stock solutions comprising people movers and monorails, light rails, metros, commuter trains, regional trains, high-speed trains, and locomotives; asset optimization, cybersecurity, connectivity, digital passenger, and security and city mobility solutions; and signaling products, such as urban, mainline, and freight and mining signaling. It also provides APM, monorail, tram, metro, and main line systems; and tracklaying and track solutions, catenary free and ground feeding solutions, electrification solutions, and electromechanical equipment, as well as cybersecurity solutions. In addition, the company provides maintenance, modernization, overhaul, parts and repair, and support services. Further, it offers various components, including bogies, motors and generators, friction brakes, switchgears, gearboxes, traction and auxiliary converters, transformers, components propulsion, green traction solutions, interiors and train control and information systems, hydrogen and battery solutions, and dispen dampers. The company was founded in 1928 and is based in Saint-Ouen, France.\n",
      "fullTimeEmployees: 78684\n",
      "companyOfficers: [{'maxAge': 1, 'name': 'Mr. Henri  Poupart-Lafarge', 'age': 55, 'title': 'CEO & Director', 'yearBorn': 1969, 'fiscalYear': 2024, 'totalPay': 1383728, 'exercisedValue': 0, 'unexercisedValue': 0}, {'maxAge': 1, 'name': 'Mr. Bernard-Pierre  Delpit', 'age': 60, 'title': 'Executive VP & CFO', 'yearBorn': 1964, 'fiscalYear': 2024, 'exercisedValue': 0, 'unexercisedValue': 0}, {'maxAge': 1, 'name': 'Mr. Martin  Vaujour', 'age': 49, 'title': 'Vice President of Investor Relations', 'yearBorn': 1975, 'fiscalYear': 2024, 'exercisedValue': 0, 'unexercisedValue': 0}, {'maxAge': 1, 'name': 'Ms. Dana  Salloum', 'title': 'Chief Communications Officer', 'fiscalYear': 2024, 'exercisedValue': 0, 'unexercisedValue': 0}, {'maxAge': 1, 'name': 'Ms. Helen  Bradley', 'title': 'Chief Human Resources Officer', 'fiscalYear': 2024, 'exercisedValue': 0, 'unexercisedValue': 0}, {'maxAge': 1, 'name': 'Mr. Dominique  Pouliquen', 'age': 64, 'title': 'Chief Performance Officer', 'yearBorn': 1960, 'fiscalYear': 2024, 'exercisedValue': 0, 'unexercisedValue': 0}, {'maxAge': 1, 'name': 'Mr. Bruno  Marguet', 'age': 61, 'title': 'President of Rolling Stock & Components Platforms', 'yearBorn': 1963, 'fiscalYear': 2024, 'exercisedValue': 0, 'unexercisedValue': 0}, {'maxAge': 1, 'name': 'Mr. Jean-Baptiste  Eyméoud', 'age': 56, 'title': 'President of France Region', 'yearBorn': 1968, 'fiscalYear': 2024, 'exercisedValue': 0, 'unexercisedValue': 0}, {'maxAge': 1, 'name': 'Mr. Michel  Boccaccio', 'age': 63, 'title': 'Senior Vice President of Latin America', 'yearBorn': 1961, 'fiscalYear': 2024, 'exercisedValue': 0, 'unexercisedValue': 0}, {'maxAge': 1, 'name': 'Mr. Gian-Luca  Erbacci', 'age': 62, 'title': 'President of Europe Region', 'yearBorn': 1962, 'fiscalYear': 2024, 'exercisedValue': 0, 'unexercisedValue': 0}]\n",
      "auditRisk: 1\n",
      "boardRisk: 3\n",
      "compensationRisk: 1\n",
      "shareHolderRightsRisk: 1\n",
      "overallRisk: 2\n",
      "governanceEpochDate: 1738368000\n",
      "compensationAsOfEpochDate: 1735603200\n",
      "maxAge: 86400\n",
      "priceHint: 2\n",
      "previousClose: 19.205\n",
      "open: 19.36\n",
      "dayLow: 19.2\n",
      "dayHigh: 19.79\n",
      "regularMarketPreviousClose: 19.205\n",
      "regularMarketOpen: 19.36\n",
      "regularMarketDayLow: 19.2\n",
      "regularMarketDayHigh: 19.79\n",
      "exDividendDate: 1689552000\n",
      "fiveYearAvgDividendYield: 2.8\n",
      "forwardPE: 9.630012\n",
      "volume: 452186\n",
      "regularMarketVolume: 452186\n",
      "averageVolume: 1122876\n",
      "averageVolume10days: 1181313\n",
      "averageDailyVolume10Day: 1181313\n",
      "marketCap: 9057153024\n",
      "fiftyTwoWeekLow: 11.095\n",
      "fiftyTwoWeekHigh: 23.36\n",
      "priceToSalesTrailing12Months: 0.50454867\n",
      "fiftyDayAverage: 20.8411\n",
      "twoHundredDayAverage: 18.779348\n",
      "currency: EUR\n",
      "enterpriseValue: 12443750400\n",
      "profitMargins: -0.01432\n",
      "floatShares: 422631000\n",
      "sharesOutstanding: 461511008\n",
      "heldPercentInsiders: 0.024530001\n",
      "heldPercentInstitutions: 0.58229\n",
      "impliedSharesOutstanding: 465620000\n",
      "bookValue: 18.896\n",
      "priceToBook: 1.0385796\n",
      "lastFiscalYearEnd: 1711843200\n",
      "nextFiscalYearEnd: 1743379200\n",
      "mostRecentQuarter: 1727654400\n",
      "earningsQuarterlyGrowth: 52.0\n",
      "netIncomeToCommon: -253000000\n",
      "trailingEps: -0.69\n",
      "forwardEps: 1.9\n",
      "lastSplitFactor: 2:1\n",
      "lastSplitDate: 1215388800\n",
      "enterpriseToRevenue: 0.693\n",
      "enterpriseToEbitda: 10.811\n",
      "52WeekChange: 0.6541774\n",
      "SandP52WeekChange: 0.212803\n",
      "lastDividendValue: 0.23578\n",
      "lastDividendDate: 1689552000\n",
      "exchange: PAR\n",
      "quoteType: EQUITY\n",
      "symbol: ALO.PA\n",
      "underlyingSymbol: ALO.PA\n",
      "shortName: ALSTOM\n",
      "longName: Alstom SA\n",
      "firstTradeDateEpochUtc: 1123052400\n",
      "timeZoneFullName: Europe/Paris\n",
      "timeZoneShortName: CET\n",
      "uuid: 8aeaabec-4e2e-3fb6-8fa5-c7b00ecc81b4\n",
      "messageBoardId: finmb_387473\n",
      "gmtOffSetMilliseconds: 3600000\n",
      "currentPrice: 19.625\n",
      "targetHighPrice: 33.0\n",
      "targetLowPrice: 9.0\n",
      "targetMeanPrice: 24.3\n",
      "targetMedianPrice: 25.0\n",
      "recommendationMean: 2.05556\n",
      "recommendationKey: buy\n",
      "numberOfAnalystOpinions: 18\n",
      "totalCash: 1788999936\n",
      "totalCashPerShare: 3.253\n",
      "ebitda: 1151000064\n",
      "totalDebt: 3560000000\n",
      "quickRatio: 0.56\n",
      "currentRatio: 0.963\n",
      "totalRevenue: 17951000576\n",
      "debtToEquity: 33.895\n",
      "revenuePerShare: 38.427\n",
      "returnOnAssets: 0.01\n",
      "returnOnEquity: -0.02293\n",
      "grossProfits: 2275000064\n",
      "freeCashflow: 834750016\n",
      "operatingCashflow: 957000000\n",
      "earningsGrowth: 35.977\n",
      "revenueGrowth: 0.039\n",
      "grossMargins: 0.12673001\n",
      "ebitdaMargins: 0.06412\n",
      "operatingMargins: 0.02974\n",
      "financialCurrency: EUR\n",
      "trailingPegRatio: None\n"
     ]
    }
   ],
   "execution_count": 3
  },
  {
   "cell_type": "code",
   "source": [
    "# get some fundamental info\n",
    "\n",
    "fundamentals = [\"dividendYield\", \"marketCap\", \"beta\", \"forwardPE\"]\n",
    "for key in fundamentals:\n",
    "    print(f\"{key} : {alo_stock.info.get(key)}\")"
   ],
   "metadata": {
    "collapsed": false,
    "ExecuteTime": {
     "end_time": "2025-02-06T13:02:28.043345Z",
     "start_time": "2025-02-06T13:02:28.027773Z"
    }
   },
   "outputs": [
    {
     "name": "stdout",
     "output_type": "stream",
     "text": [
      "dividendYield : None\n",
      "marketCap : 9057153024\n",
      "beta : None\n",
      "forwardPE : 9.630012\n"
     ]
    }
   ],
   "execution_count": 5
  },
  {
   "metadata": {},
   "cell_type": "markdown",
   "source": [
    "## Basic explanation of these properties\n",
    "\n",
    "0. **Earnings per share (EPS)**: is a company's net income subtracted by preferred dividends and then divided by the number of common shares it has outstanding. EPS indicates how much money a company makes for each share of its stock and is a widely used metric for estimating corporate value. \n",
    "\n",
    "1. **payout ratio**: \n",
    "\n",
    "It is the percentage of a company's earnings that is paid out to shareholders in the form of dividends. It is a key metric for investors to assess how much of a company's profits are being returned to shareholders versus being reinvested into the business.\n",
    "Interpretation:\n",
    "\n",
    "- Low Payout Ratio (e.g., <30%) → The company is reinvesting most of its earnings, which may indicate growth potential.\n",
    "- Moderate Payout Ratio (30%-60%) → A balance between returning money to shareholders and reinvesting in the business.\n",
    "- High Payout Ratio (60%-100%) → The company is paying out most or all of its earnings as dividends, which may indicate limited reinvestment opportunities.\n",
    "\n",
    "2. **Dividend Rate**: The total annual dividend payment per share of a stock. If a company pays a `quarterly dividend of $0.50, the dividend rate is $2`.\n",
    "3. **Dividend Yield**: The percentage return a shareholder gets from dividends relative to the stock price. `If a stock price is $50 and pays a $2 dividend per year, then the yield is (2/50)*100 = 4%`. **High yield can be attractive but may signal risk if unsustainable.**\n",
    "4. **Trailing P/E**: Stock Price divide by the last 12 months earnings per share (EPS). `If the stock price is $100 and EPS for the past year was $5, 100/5 = 20 (P/E ratio)`. **A high P/E suggests the stock is expensive relative to past earnings, while a low P/E may indicate an undervalued stock.**\n",
    "5. **Forward P/E**: Stock Price divide by the estimated next 12 months earnings per share (EPS). **If forward P/E is lower than trailing P/E, earnings are expected to grow. If it’s higher, earnings are expected to decline.**"
   ]
  },
  {
   "cell_type": "code",
   "source": [
    "### 1.2 Get info many stocks\n",
    "\n",
    "stock_list=[\"MC\"]"
   ],
   "metadata": {
    "collapsed": false,
    "ExecuteTime": {
     "end_time": "2025-02-06T14:04:39.701858Z",
     "start_time": "2025-02-06T14:04:39.689594Z"
    }
   },
   "outputs": [],
   "execution_count": 25
  },
  {
   "metadata": {
    "ExecuteTime": {
     "end_time": "2025-02-06T14:04:41.263474Z",
     "start_time": "2025-02-06T14:04:41.251730Z"
    }
   },
   "cell_type": "code",
   "source": [
    "from typing import List\n",
    "\n",
    "\n",
    "def get_stock_infos(stock_tickers:List[str])->pd.DataFrame:\n",
    "    \"\"\"\n",
    "    This function takes a list of stock tickers and returns a Pandas DataFrame which contains the basic information of the stock.\n",
    "    The stock ticker has the following format: <stock_id>.PA. For example: ALO.PA: Alstom, MC.PA: LVMH\n",
    "    :param stock_tickers: \n",
    "    :return: \n",
    "    \"\"\"\n",
    "    # We don't need all information of a stock, below is a list of all important columns for me.\n",
    "    key_columns = [\"symbol\", \"industry\", \"sector\", \"longBusinessSummary\",\"fullTimeEmployees\",\"auditRisk\",\"boardRisk\",\"compensationRisk\",\"shareHolderRightsRisk\",\"overallRisk\", \"dividendRate\",\"dividendYield\",\n",
    "                   \"payoutRatio\",\"fiveYearAvgDividendYield\", \"enterpriseValue\", \"fiftyTwoWeekLow\", \"fiftyTwoWeekHigh\",\"fiftyDayAverage\",\"lastDividendValue\",\"lastDividendDate\",\"totalDebt\",\"freeCashflow\",\n",
    "                   \"operatingCashflow\",\"earningsGrowth\", \"revenueGrowth\", \"grossMargins\"]\n",
    "    stock_infos:List[dict] = []\n",
    "\n",
    "    # add stock dict into a list\n",
    "    for stock_ticker in stock_tickers:\n",
    "        full_name = f\"{stock_ticker}.PA\"\n",
    "        stock_infos.append(yf.Ticker(full_name).info)\n",
    "    # convert the list of dict into pandas dataframe, then filter only the column that interest me\n",
    "    pdf = pd.DataFrame(stock_infos)[key_columns]\n",
    "    # use symbol column as index\n",
    "    pdf.set_index(\"symbol\", inplace=True)\n",
    "    return pdf\n",
    "    "
   ],
   "outputs": [],
   "execution_count": 26
  },
  {
   "metadata": {},
   "cell_type": "markdown",
   "source": [
    "# Basic information of a stock\n",
    "\n",
    "\n"
   ]
  },
  {
   "cell_type": "code",
   "source": [
    "# create a df\n",
    "df= get_stock_infos(stock_list)\n",
    "df.head()"
   ],
   "metadata": {
    "collapsed": false,
    "ExecuteTime": {
     "end_time": "2025-02-06T14:04:44.975906Z",
     "start_time": "2025-02-06T14:04:44.848429Z"
    }
   },
   "outputs": [
    {
     "data": {
      "text/plain": [
       "            industry             sector  \\\n",
       "symbol                                    \n",
       "MC.PA   Luxury Goods  Consumer Cyclical   \n",
       "\n",
       "                                      longBusinessSummary  fullTimeEmployees  \\\n",
       "symbol                                                                         \n",
       "MC.PA   LVMH Moët Hennessy - Louis Vuitton, Société Eu...             192287   \n",
       "\n",
       "        auditRisk  boardRisk  compensationRisk  shareHolderRightsRisk  \\\n",
       "symbol                                                                  \n",
       "MC.PA           4          8                10                      7   \n",
       "\n",
       "        overallRisk  dividendRate  ...  fiftyTwoWeekHigh  fiftyDayAverage  \\\n",
       "symbol                             ...                                      \n",
       "MC.PA             9          13.0  ...             886.4          653.336   \n",
       "\n",
       "        lastDividendValue  lastDividendDate    totalDebt  freeCashflow  \\\n",
       "symbol                                                                   \n",
       "MC.PA                 5.5        1733097600  40851001344    9772125184   \n",
       "\n",
       "        operatingCashflow  earningsGrowth  revenueGrowth  grossMargins  \n",
       "symbol                                                                  \n",
       "MC.PA         18933999616          -0.141         -0.013       0.68528  \n",
       "\n",
       "[1 rows x 25 columns]"
      ],
      "text/html": [
       "<div>\n",
       "<style scoped>\n",
       "    .dataframe tbody tr th:only-of-type {\n",
       "        vertical-align: middle;\n",
       "    }\n",
       "\n",
       "    .dataframe tbody tr th {\n",
       "        vertical-align: top;\n",
       "    }\n",
       "\n",
       "    .dataframe thead th {\n",
       "        text-align: right;\n",
       "    }\n",
       "</style>\n",
       "<table border=\"1\" class=\"dataframe\">\n",
       "  <thead>\n",
       "    <tr style=\"text-align: right;\">\n",
       "      <th></th>\n",
       "      <th>industry</th>\n",
       "      <th>sector</th>\n",
       "      <th>longBusinessSummary</th>\n",
       "      <th>fullTimeEmployees</th>\n",
       "      <th>auditRisk</th>\n",
       "      <th>boardRisk</th>\n",
       "      <th>compensationRisk</th>\n",
       "      <th>shareHolderRightsRisk</th>\n",
       "      <th>overallRisk</th>\n",
       "      <th>dividendRate</th>\n",
       "      <th>...</th>\n",
       "      <th>fiftyTwoWeekHigh</th>\n",
       "      <th>fiftyDayAverage</th>\n",
       "      <th>lastDividendValue</th>\n",
       "      <th>lastDividendDate</th>\n",
       "      <th>totalDebt</th>\n",
       "      <th>freeCashflow</th>\n",
       "      <th>operatingCashflow</th>\n",
       "      <th>earningsGrowth</th>\n",
       "      <th>revenueGrowth</th>\n",
       "      <th>grossMargins</th>\n",
       "    </tr>\n",
       "    <tr>\n",
       "      <th>symbol</th>\n",
       "      <th></th>\n",
       "      <th></th>\n",
       "      <th></th>\n",
       "      <th></th>\n",
       "      <th></th>\n",
       "      <th></th>\n",
       "      <th></th>\n",
       "      <th></th>\n",
       "      <th></th>\n",
       "      <th></th>\n",
       "      <th></th>\n",
       "      <th></th>\n",
       "      <th></th>\n",
       "      <th></th>\n",
       "      <th></th>\n",
       "      <th></th>\n",
       "      <th></th>\n",
       "      <th></th>\n",
       "      <th></th>\n",
       "      <th></th>\n",
       "      <th></th>\n",
       "    </tr>\n",
       "  </thead>\n",
       "  <tbody>\n",
       "    <tr>\n",
       "      <th>MC.PA</th>\n",
       "      <td>Luxury Goods</td>\n",
       "      <td>Consumer Cyclical</td>\n",
       "      <td>LVMH Moët Hennessy - Louis Vuitton, Société Eu...</td>\n",
       "      <td>192287</td>\n",
       "      <td>4</td>\n",
       "      <td>8</td>\n",
       "      <td>10</td>\n",
       "      <td>7</td>\n",
       "      <td>9</td>\n",
       "      <td>13.0</td>\n",
       "      <td>...</td>\n",
       "      <td>886.4</td>\n",
       "      <td>653.336</td>\n",
       "      <td>5.5</td>\n",
       "      <td>1733097600</td>\n",
       "      <td>40851001344</td>\n",
       "      <td>9772125184</td>\n",
       "      <td>18933999616</td>\n",
       "      <td>-0.141</td>\n",
       "      <td>-0.013</td>\n",
       "      <td>0.68528</td>\n",
       "    </tr>\n",
       "  </tbody>\n",
       "</table>\n",
       "<p>1 rows × 25 columns</p>\n",
       "</div>"
      ]
     },
     "execution_count": 27,
     "metadata": {},
     "output_type": "execute_result"
    }
   ],
   "execution_count": 27
  },
  {
   "metadata": {
    "ExecuteTime": {
     "end_time": "2025-02-06T14:01:47.975753Z",
     "start_time": "2025-02-06T14:01:47.964091Z"
    }
   },
   "cell_type": "code",
   "source": [
    "for col in df.columns:\n",
    "    print(col)"
   ],
   "outputs": [
    {
     "name": "stdout",
     "output_type": "stream",
     "text": [
      "industry\n",
      "sector\n",
      "longBusinessSummary\n",
      "fullTimeEmployees\n",
      "auditRisk\n",
      "boardRisk\n",
      "compensationRisk\n",
      "shareHolderRightsRisk\n",
      "overallRisk\n",
      "dividendRate\n",
      "dividendYield\n",
      "payoutRatio\n",
      "fiveYearAvgDividendYield\n",
      "enterpriseValue\n",
      "fiftyTwoWeekLow\n",
      "fiftyTwoWeekHigh\n",
      "fiftyDayAverage\n",
      "lastDividendValue\n",
      "lastDividendDate\n",
      "totalDebt\n",
      "freeCashflow\n",
      "operatingCashflow\n",
      "earningsGrowth\n",
      "revenueGrowth\n",
      "grossMargins\n"
     ]
    }
   ],
   "execution_count": 24
  },
  {
   "cell_type": "code",
   "execution_count": 53,
   "outputs": [
    {
     "data": {
      "text/plain": "        dividendYield    marketCap      beta  forwardPE\nsymbol                                                 \nALO.PA         0.0096   9928229888  1.028009  12.560387\nCS.PA          0.0604  63327576064  1.329295   7.679945\nSCR.PA         0.0485   5143068672  1.253974   6.200431\nGLE.PA         0.0665  20525211648  1.577214   4.716391",
      "text/html": "<div>\n<style scoped>\n    .dataframe tbody tr th:only-of-type {\n        vertical-align: middle;\n    }\n\n    .dataframe tbody tr th {\n        vertical-align: top;\n    }\n\n    .dataframe thead th {\n        text-align: right;\n    }\n</style>\n<table border=\"1\" class=\"dataframe\">\n  <thead>\n    <tr style=\"text-align: right;\">\n      <th></th>\n      <th>dividendYield</th>\n      <th>marketCap</th>\n      <th>beta</th>\n      <th>forwardPE</th>\n    </tr>\n    <tr>\n      <th>symbol</th>\n      <th></th>\n      <th></th>\n      <th></th>\n      <th></th>\n    </tr>\n  </thead>\n  <tbody>\n    <tr>\n      <th>ALO.PA</th>\n      <td>0.0096</td>\n      <td>9928229888</td>\n      <td>1.028009</td>\n      <td>12.560387</td>\n    </tr>\n    <tr>\n      <th>CS.PA</th>\n      <td>0.0604</td>\n      <td>63327576064</td>\n      <td>1.329295</td>\n      <td>7.679945</td>\n    </tr>\n    <tr>\n      <th>SCR.PA</th>\n      <td>0.0485</td>\n      <td>5143068672</td>\n      <td>1.253974</td>\n      <td>6.200431</td>\n    </tr>\n    <tr>\n      <th>GLE.PA</th>\n      <td>0.0665</td>\n      <td>20525211648</td>\n      <td>1.577214</td>\n      <td>4.716391</td>\n    </tr>\n  </tbody>\n</table>\n</div>"
     },
     "execution_count": 53,
     "metadata": {},
     "output_type": "execute_result"
    }
   ],
   "source": [
    "# filter the fundamental columns\n",
    "df =df[fundamentals]\n",
    "df.head()"
   ],
   "metadata": {
    "collapsed": false
   }
  },
  {
   "cell_type": "code",
   "execution_count": 54,
   "outputs": [
    {
     "data": {
      "text/plain": "<BarContainer object of 4 artists>"
     },
     "execution_count": 54,
     "metadata": {},
     "output_type": "execute_result"
    },
    {
     "data": {
      "text/plain": "<Figure size 640x480 with 1 Axes>",
      "image/png": "[encoded data removed]"
     },
     "metadata": {},
     "output_type": "display_data"
    }
   ],
   "source": [
    "from matplotlib import pyplot as plt\n",
    "\n",
    "plt.bar(df.index,df.dividendYield)"
   ],
   "metadata": {
    "collapsed": false
   }
  },
  {
   "cell_type": "code",
   "execution_count": 55,
   "outputs": [
    {
     "data": {
      "text/plain": "symbol\nGLE.PA    0.0665\nCS.PA     0.0604\nName: dividendYield, dtype: float64"
     },
     "execution_count": 55,
     "metadata": {},
     "output_type": "execute_result"
    }
   ],
   "source": [
    "# get the best dividend yield stock\n",
    "df[\"dividendYield\"].nlargest(2)"
   ],
   "metadata": {
    "collapsed": false
   }
  },
  {
   "cell_type": "markdown",
   "source": [
    "## Get historical trade information\n",
    "\n",
    "As we know, stock price and dividend change all the time."
   ],
   "metadata": {
    "collapsed": false
   }
  },
  {
   "cell_type": "code",
   "execution_count": 34,
   "outputs": [
    {
     "name": "stdout",
     "output_type": "stream",
     "text": [
      "[*********************100%***********************]  1 of 1 completed\n"
     ]
    }
   ],
   "source": [
    "\n",
    "df2 = yf.download(alo,start=\"2020-01-01\")"
   ],
   "metadata": {
    "collapsed": false
   }
  },
  {
   "cell_type": "code",
   "execution_count": 35,
   "outputs": [
    {
     "data": {
      "text/plain": "                 Open       High        Low      Close  Adj Close   Volume\nDate                                                                      \n2020-01-02  42.270000  42.790001  42.240002  42.580002  41.451309   351895\n2020-01-03  42.220001  42.639999  42.209999  42.639999  41.509720   337753\n2020-01-06  42.439999  42.590000  41.849998  42.220001  41.100857   449260\n2020-01-07  42.230000  42.720001  42.200001  42.500000  41.373432   411762\n2020-01-08  43.119999  43.560001  43.000000  43.310001  42.161961   765403\n2020-01-09  43.599998  43.720001  42.980000  43.169998  42.025669   578042\n2020-01-10  43.230000  43.480000  43.060001  43.090000  41.947792   466355\n2020-01-13  43.279999  43.939999  43.099998  43.549999  42.395596   672950\n2020-01-14  43.590000  44.139999  43.290001  44.040001  42.872608   647802\n2020-01-15  43.950001  44.189999  43.669998  44.189999  43.018635   658196\n2020-01-16  42.939999  44.919998  42.669998  44.740002  43.554054  1292337\n2020-01-17  45.000000  45.580002  44.770000  45.459999  44.254967   873157\n2020-01-20  45.500000  45.630001  45.130001  45.400002  44.196556   496622\n2020-01-21  45.209999  45.279999  44.860001  45.200001  44.001862   556011\n2020-01-22  46.000000  46.419998  45.650002  46.040001  44.819595  1193198\n2020-01-23  45.779999  46.480000  45.680000  46.450001  45.218723  1106304\n2020-01-24  46.500000  47.259998  46.450001  47.119999  45.870964  1029629\n2020-01-27  46.810001  46.869999  46.070000  46.549999  45.316074   852199\n2020-01-28  46.540001  46.849998  46.000000  46.560001  45.325813   688856\n2020-01-29  46.840000  47.910000  46.509998  47.759998  46.493999   930389",
      "text/html": "<div>\n<style scoped>\n    .dataframe tbody tr th:only-of-type {\n        vertical-align: middle;\n    }\n\n    .dataframe tbody tr th {\n        vertical-align: top;\n    }\n\n    .dataframe thead th {\n        text-align: right;\n    }\n</style>\n<table border=\"1\" class=\"dataframe\">\n  <thead>\n    <tr style=\"text-align: right;\">\n      <th></th>\n      <th>Open</th>\n      <th>High</th>\n      <th>Low</th>\n      <th>Close</th>\n      <th>Adj Close</th>\n      <th>Volume</th>\n    </tr>\n    <tr>\n      <th>Date</th>\n      <th></th>\n      <th></th>\n      <th></th>\n      <th></th>\n      <th></th>\n      <th></th>\n    </tr>\n  </thead>\n  <tbody>\n    <tr>\n      <th>2020-01-02</th>\n      <td>42.270000</td>\n      <td>42.790001</td>\n      <td>42.240002</td>\n      <td>42.580002</td>\n      <td>41.451309</td>\n      <td>351895</td>\n    </tr>\n    <tr>\n      <th>2020-01-03</th>\n      <td>42.220001</td>\n      <td>42.639999</td>\n      <td>42.209999</td>\n      <td>42.639999</td>\n      <td>41.509720</td>\n      <td>337753</td>\n    </tr>\n    <tr>\n      <th>2020-01-06</th>\n      <td>42.439999</td>\n      <td>42.590000</td>\n      <td>41.849998</td>\n      <td>42.220001</td>\n      <td>41.100857</td>\n      <td>449260</td>\n    </tr>\n    <tr>\n      <th>2020-01-07</th>\n      <td>42.230000</td>\n      <td>42.720001</td>\n      <td>42.200001</td>\n      <td>42.500000</td>\n      <td>41.373432</td>\n      <td>411762</td>\n    </tr>\n    <tr>\n      <th>2020-01-08</th>\n      <td>43.119999</td>\n      <td>43.560001</td>\n      <td>43.000000</td>\n      <td>43.310001</td>\n      <td>42.161961</td>\n      <td>765403</td>\n    </tr>\n    <tr>\n      <th>2020-01-09</th>\n      <td>43.599998</td>\n      <td>43.720001</td>\n      <td>42.980000</td>\n      <td>43.169998</td>\n      <td>42.025669</td>\n      <td>578042</td>\n    </tr>\n    <tr>\n      <th>2020-01-10</th>\n      <td>43.230000</td>\n      <td>43.480000</td>\n      <td>43.060001</td>\n      <td>43.090000</td>\n      <td>41.947792</td>\n      <td>466355</td>\n    </tr>\n    <tr>\n      <th>2020-01-13</th>\n      <td>43.279999</td>\n      <td>43.939999</td>\n      <td>43.099998</td>\n      <td>43.549999</td>\n      <td>42.395596</td>\n      <td>672950</td>\n    </tr>\n    <tr>\n      <th>2020-01-14</th>\n      <td>43.590000</td>\n      <td>44.139999</td>\n      <td>43.290001</td>\n      <td>44.040001</td>\n      <td>42.872608</td>\n      <td>647802</td>\n    </tr>\n    <tr>\n      <th>2020-01-15</th>\n      <td>43.950001</td>\n      <td>44.189999</td>\n      <td>43.669998</td>\n      <td>44.189999</td>\n      <td>43.018635</td>\n      <td>658196</td>\n    </tr>\n    <tr>\n      <th>2020-01-16</th>\n      <td>42.939999</td>\n      <td>44.919998</td>\n      <td>42.669998</td>\n      <td>44.740002</td>\n      <td>43.554054</td>\n      <td>1292337</td>\n    </tr>\n    <tr>\n      <th>2020-01-17</th>\n      <td>45.000000</td>\n      <td>45.580002</td>\n      <td>44.770000</td>\n      <td>45.459999</td>\n      <td>44.254967</td>\n      <td>873157</td>\n    </tr>\n    <tr>\n      <th>2020-01-20</th>\n      <td>45.500000</td>\n      <td>45.630001</td>\n      <td>45.130001</td>\n      <td>45.400002</td>\n      <td>44.196556</td>\n      <td>496622</td>\n    </tr>\n    <tr>\n      <th>2020-01-21</th>\n      <td>45.209999</td>\n      <td>45.279999</td>\n      <td>44.860001</td>\n      <td>45.200001</td>\n      <td>44.001862</td>\n      <td>556011</td>\n    </tr>\n    <tr>\n      <th>2020-01-22</th>\n      <td>46.000000</td>\n      <td>46.419998</td>\n      <td>45.650002</td>\n      <td>46.040001</td>\n      <td>44.819595</td>\n      <td>1193198</td>\n    </tr>\n    <tr>\n      <th>2020-01-23</th>\n      <td>45.779999</td>\n      <td>46.480000</td>\n      <td>45.680000</td>\n      <td>46.450001</td>\n      <td>45.218723</td>\n      <td>1106304</td>\n    </tr>\n    <tr>\n      <th>2020-01-24</th>\n      <td>46.500000</td>\n      <td>47.259998</td>\n      <td>46.450001</td>\n      <td>47.119999</td>\n      <td>45.870964</td>\n      <td>1029629</td>\n    </tr>\n    <tr>\n      <th>2020-01-27</th>\n      <td>46.810001</td>\n      <td>46.869999</td>\n      <td>46.070000</td>\n      <td>46.549999</td>\n      <td>45.316074</td>\n      <td>852199</td>\n    </tr>\n    <tr>\n      <th>2020-01-28</th>\n      <td>46.540001</td>\n      <td>46.849998</td>\n      <td>46.000000</td>\n      <td>46.560001</td>\n      <td>45.325813</td>\n      <td>688856</td>\n    </tr>\n    <tr>\n      <th>2020-01-29</th>\n      <td>46.840000</td>\n      <td>47.910000</td>\n      <td>46.509998</td>\n      <td>47.759998</td>\n      <td>46.493999</td>\n      <td>930389</td>\n    </tr>\n  </tbody>\n</table>\n</div>"
     },
     "execution_count": 35,
     "metadata": {},
     "output_type": "execute_result"
    }
   ],
   "source": [
    "df2.head(20)"
   ],
   "metadata": {
    "collapsed": false
   }
  },
  {
   "cell_type": "code",
   "execution_count": 36,
   "outputs": [
    {
     "data": {
      "text/plain": "(928, 6)"
     },
     "execution_count": 36,
     "metadata": {},
     "output_type": "execute_result"
    }
   ],
   "source": [
    "df2.shape"
   ],
   "metadata": {
    "collapsed": false
   }
  },
  {
   "cell_type": "code",
   "execution_count": 18,
   "outputs": [],
   "source": [],
   "metadata": {
    "collapsed": false
   }
  },
  {
   "cell_type": "code",
   "execution_count": 38,
   "outputs": [
    {
     "name": "stdout",
     "output_type": "stream",
     "text": [
      "dividend Date\n",
      "2006-05-15 00:00:00+02:00    0.226018\n",
      "2007-07-05 00:00:00+02:00    0.370902\n",
      "2008-06-26 00:00:00+02:00    0.741804\n",
      "2009-06-25 00:00:00+02:00    1.038526\n",
      "2010-06-24 00:00:00+02:00    1.149796\n",
      "2011-06-30 00:00:00+02:00    0.574898\n",
      "2012-06-28 00:00:00+02:00    0.741804\n",
      "2013-07-04 00:00:00+02:00    0.778894\n",
      "2017-07-07 00:00:00+02:00    0.231814\n",
      "2018-07-20 00:00:00+02:00    0.324539\n",
      "2019-07-15 00:00:00+02:00    5.099902\n",
      "2021-08-02 00:00:00+02:00    0.250000\n",
      "2022-07-20 00:00:00+02:00    0.250000\n",
      "2023-07-17 00:00:00+02:00    0.250000\n",
      "Name: Dividends, dtype: float64\n"
     ]
    }
   ],
   "source": [
    "alo_div = alo_stock.dividends\n",
    "print(f\"dividend {alo_div}\")"
   ],
   "metadata": {
    "collapsed": false
   }
  },
  {
   "cell_type": "code",
   "execution_count": 40,
   "outputs": [],
   "source": [
    "# we need a function which calculate the actual dividendYield\n",
    "def getDividendYield(stockTicker:str, currentYear:int=None):\n",
    "    stock = yf.Ticker(stockTicker)\n",
    "    if not currentYear:\n",
    "        currentYear=datetime.datetime.now().year\n",
    "\n",
    "    currentDiv = stock.dividends[stock.dividends.index.year == currentYear][0]\n",
    "    currentPrice = stock.history(period=\"1d\")[\"Close\"][0]\n",
    "    divYield = currentDiv / currentPrice\n",
    "    print(f\"The dividendYield of {stockTicker} at year {currentYear} is: {divYield}\")\n"
   ],
   "metadata": {
    "collapsed": false
   }
  },
  {
   "cell_type": "code",
   "execution_count": 41,
   "outputs": [
    {
     "name": "stdout",
     "output_type": "stream",
     "text": [
      "The dividendYield of CS.PA at year 2023 is: 0.06081201948272541\n"
     ]
    }
   ],
   "source": [
    "getDividendYield(axa)"
   ],
   "metadata": {
    "collapsed": false
   }
  },
  {
   "cell_type": "code",
   "execution_count": 42,
   "outputs": [
    {
     "name": "stdout",
     "output_type": "stream",
     "text": [
      "The dividendYield of OR.PA at year 2023 is: 0.01444043321299639\n"
     ]
    }
   ],
   "source": [
    "getDividendYield(\"OR.PA\")"
   ],
   "metadata": {
    "collapsed": false
   }
  },
  {
   "cell_type": "code",
   "execution_count": 43,
   "outputs": [
    {
     "name": "stdout",
     "output_type": "stream",
     "text": [
      "The dividendYield of SCR.PA at year 2023 is: 0.048661799712353\n"
     ]
    }
   ],
   "source": [
    "getDividendYield(\"SCR.PA\")"
   ],
   "metadata": {
    "collapsed": false
   }
  },
  {
   "cell_type": "code",
   "execution_count": 45,
   "outputs": [],
   "source": [
    "def aroundDateToWeekDay(inDate: datetime.datetime) -> datetime.datetime:\n",
    "    \"\"\"\n",
    "    This function takes a date, if it's not a week day, convert it to the nearest week day date\n",
    "    :param inDate:\n",
    "    :type inDate:\n",
    "    :return:\n",
    "    :rtype:\n",
    "    \"\"\"\n",
    "    dayOfWeek = inDate.weekday()\n",
    "    # 0~4 is week day, 5,6 are saturday and sunday\n",
    "    if dayOfWeek == 5:\n",
    "        return inDate - datetime.timedelta(days=1)\n",
    "    elif dayOfWeek == 6:\n",
    "        return inDate - datetime.timedelta(days=2)\n",
    "    else:\n",
    "        return inDate\n",
    "\n",
    "\n",
    "def getPriceOfDate(stock, inDate: datetime.datetime) -> float:\n",
    "    \"\"\"\n",
    "    This function takes a stock, and a date, returns the closing price of the stock at the given day\n",
    "    :param stock:\n",
    "    :type stock:\n",
    "    :param inDate:\n",
    "    :type inDate:\n",
    "    :return:\n",
    "    :rtype:\n",
    "    \"\"\"\n",
    "    price = stock.history(start=inDate, end=inDate + datetime.timedelta(days=1))\n",
    "    if price.empty:\n",
    "        getPriceOfDate(stock, inDate - datetime.timedelta(days=1))\n",
    "    else:\n",
    "        return price\n",
    "\n",
    "\n",
    "def getHistoricalReturns(oldPrice: float, newPrice: float) -> float:\n",
    "    \"\"\"\n",
    "    This function returns the historical returns of two giving price.\n",
    "    :param oldPrice:\n",
    "    :type oldPrice:\n",
    "    :param newPrice:\n",
    "    :type newPrice:\n",
    "    :return:\n",
    "    :rtype:\n",
    "    \"\"\"\n",
    "    return (newPrice - oldPrice) / oldPrice * 100\n",
    "\n",
    "\n",
    "def processDate(dateArg) -> datetime.date:\n",
    "    \"\"\"\n",
    "    Convert a date argument into datetime.date type, which can be either a string or a datetime object.\n",
    "    :param dateArg:\n",
    "    :type dateArg:\n",
    "    :return:\n",
    "    :rtype:\n",
    "    \"\"\"\n",
    "\n",
    "    if isinstance(dateArg, str):\n",
    "        try:\n",
    "            # Attempt to convert string to datetime\n",
    "            processedDate = datetime.datetime.strptime(dateArg, '%Y-%m-%d').date()\n",
    "        except ValueError:\n",
    "            raise ValueError(\"Invalid date string format. Please use 'YYYY-MM-DD'.\")\n",
    "    elif isinstance(dateArg, datetime.date):\n",
    "        processedDate = dateArg\n",
    "    else:\n",
    "        raise ValueError(\"Invalid date argument. Please provide a string or datetime object.\")\n",
    "\n",
    "    return processedDate\n",
    "\n",
    "\n",
    "def getPriceEvolution(stockTicker: str, startDate, endDate=None) -> float:\n",
    "    \"\"\"\n",
    "    This function takes a stock ticker, and two dates, then it shows the price evolution of the stock. It returns\n",
    "    only the HistoricalReturns of the stock\n",
    "    :param stockTicker:\n",
    "    :type stockTicker:\n",
    "    :param startDate:\n",
    "    :type startDate:\n",
    "    :param endDate:\n",
    "    :type endDate:\n",
    "    :return:\n",
    "    :rtype:\n",
    "    \"\"\"\n",
    "    # get the stock\n",
    "    stock = yf.Ticker(stockTicker)\n",
    "    # convert the start date (str or datetime) to datetime\n",
    "    startDate = processDate(startDate)\n",
    "    # convert the date to a weekday (if the date is a saturday or sunday)\n",
    "    startDate = aroundDateToWeekDay(startDate)\n",
    "\n",
    "    # if end date is none\n",
    "    if not endDate:\n",
    "        endDate = datetime.datetime.now().date()\n",
    "    else:\n",
    "        endDate = processDate(endDate)\n",
    "    endDate = aroundDateToWeekDay(endDate)\n",
    "\n",
    "    oldPrice = getPriceOfDate(stock, startDate)['Close'][0]\n",
    "    newPrice = getPriceOfDate(stock, endDate)['Close'][0]\n",
    "    print(f\"old price: {oldPrice}, at {startDate}\")\n",
    "    print(f\"new price: {newPrice}, at {endDate}\")\n",
    "    hr = getHistoricalReturns(oldPrice, newPrice)\n",
    "    print(f\"historical returns: {hr}\")\n",
    "    return hr\n",
    "\n",
    "\n",
    "def getStockReturnsSinceDays(stockTicker: str, days: int):\n",
    "    endDate = datetime.datetime.now().date()\n",
    "    startDate = endDate - datetime.timedelta(days=days)\n",
    "    getPriceEvolution(stockTicker, startDate, endDate)\n",
    "\n",
    "\n",
    "def getLastWeekReturns(stockTicker: str):\n",
    "    getStockReturnsSinceDays(stockTicker, 7)\n",
    "\n",
    "\n",
    "def getLastMonthReturns(stockTicker: str):\n",
    "    getStockReturnsSinceDays(stockTicker, 30)\n",
    "\n",
    "\n",
    "def getLastThreeMonthReturns(stockTicker: str):\n",
    "    getStockReturnsSinceDays(stockTicker, 90)\n",
    "\n",
    "\n",
    "def getLastYearReturns(stockTicker: str):\n",
    "    getStockReturnsSinceDays(stockTicker, 365)"
   ],
   "metadata": {
    "collapsed": false
   }
  },
  {
   "cell_type": "code",
   "execution_count": 46,
   "outputs": [
    {
     "name": "stdout",
     "output_type": "stream",
     "text": [
      "old price: 22.98912239074707, at 2022-06-03\n",
      "new price: 24.6299991607666, at 2023-06-02\n",
      "historical returns: 7.137622490017151\n"
     ]
    },
    {
     "data": {
      "text/plain": "7.137622490017151"
     },
     "execution_count": 46,
     "metadata": {},
     "output_type": "execute_result"
    }
   ],
   "source": [
    "startDate=\"2022-06-04\"\n",
    "endDate = \"2023-06-04\"\n",
    "getPriceEvolution(\"SCR.PA\",startDate, endDate)"
   ],
   "metadata": {
    "collapsed": false
   }
  },
  {
   "cell_type": "code",
   "execution_count": 47,
   "outputs": [
    {
     "name": "stderr",
     "output_type": "stream",
     "text": [
      "CS.PA: No price data found, symbol may be delisted (1d 2023-08-07 -> 2023-08-08)\n",
      "CS.PA: No price data found, symbol may be delisted (1d 2023-08-06 -> 2023-08-07)\n",
      "CS.PA: No price data found, symbol may be delisted (1d 2023-08-05 -> 2023-08-06)\n"
     ]
    },
    {
     "ename": "TypeError",
     "evalue": "'NoneType' object is not subscriptable",
     "output_type": "error",
     "traceback": [
      "\u001B[0;31m---------------------------------------------------------------------------\u001B[0m",
      "\u001B[0;31mTypeError\u001B[0m                                 Traceback (most recent call last)",
      "Cell \u001B[0;32mIn[47], line 1\u001B[0m\n\u001B[0;32m----> 1\u001B[0m \u001B[43mgetLastWeekReturns\u001B[49m\u001B[43m(\u001B[49m\u001B[43maxa\u001B[49m\u001B[43m)\u001B[49m\n\u001B[1;32m      2\u001B[0m getLastMonthReturns(axa)\n\u001B[1;32m      3\u001B[0m getLastThreeMonthReturns(axa)\n",
      "Cell \u001B[0;32mIn[45], line 115\u001B[0m, in \u001B[0;36mgetLastWeekReturns\u001B[0;34m(stockTicker)\u001B[0m\n\u001B[1;32m    114\u001B[0m \u001B[38;5;28;01mdef\u001B[39;00m \u001B[38;5;21mgetLastWeekReturns\u001B[39m(stockTicker: \u001B[38;5;28mstr\u001B[39m):\n\u001B[0;32m--> 115\u001B[0m     \u001B[43mgetStockReturnsSinceDays\u001B[49m\u001B[43m(\u001B[49m\u001B[43mstockTicker\u001B[49m\u001B[43m,\u001B[49m\u001B[43m \u001B[49m\u001B[38;5;241;43m7\u001B[39;49m\u001B[43m)\u001B[49m\n",
      "Cell \u001B[0;32mIn[45], line 111\u001B[0m, in \u001B[0;36mgetStockReturnsSinceDays\u001B[0;34m(stockTicker, days)\u001B[0m\n\u001B[1;32m    109\u001B[0m endDate \u001B[38;5;241m=\u001B[39m datetime\u001B[38;5;241m.\u001B[39mdatetime\u001B[38;5;241m.\u001B[39mnow()\u001B[38;5;241m.\u001B[39mdate()\n\u001B[1;32m    110\u001B[0m startDate \u001B[38;5;241m=\u001B[39m endDate \u001B[38;5;241m-\u001B[39m datetime\u001B[38;5;241m.\u001B[39mtimedelta(days\u001B[38;5;241m=\u001B[39mdays)\n\u001B[0;32m--> 111\u001B[0m \u001B[43mgetPriceEvolution\u001B[49m\u001B[43m(\u001B[49m\u001B[43mstockTicker\u001B[49m\u001B[43m,\u001B[49m\u001B[43m \u001B[49m\u001B[43mstartDate\u001B[49m\u001B[43m,\u001B[49m\u001B[43m \u001B[49m\u001B[43mendDate\u001B[49m\u001B[43m)\u001B[49m\n",
      "Cell \u001B[0;32mIn[45], line 99\u001B[0m, in \u001B[0;36mgetPriceEvolution\u001B[0;34m(stockTicker, startDate, endDate)\u001B[0m\n\u001B[1;32m     96\u001B[0m     endDate \u001B[38;5;241m=\u001B[39m processDate(endDate)\n\u001B[1;32m     97\u001B[0m endDate \u001B[38;5;241m=\u001B[39m aroundDateToWeekDay(endDate)\n\u001B[0;32m---> 99\u001B[0m oldPrice \u001B[38;5;241m=\u001B[39m \u001B[43mgetPriceOfDate\u001B[49m\u001B[43m(\u001B[49m\u001B[43mstock\u001B[49m\u001B[43m,\u001B[49m\u001B[43m \u001B[49m\u001B[43mstartDate\u001B[49m\u001B[43m)\u001B[49m\u001B[43m[\u001B[49m\u001B[38;5;124;43m'\u001B[39;49m\u001B[38;5;124;43mClose\u001B[39;49m\u001B[38;5;124;43m'\u001B[39;49m\u001B[43m]\u001B[49m[\u001B[38;5;241m0\u001B[39m]\n\u001B[1;32m    100\u001B[0m newPrice \u001B[38;5;241m=\u001B[39m getPriceOfDate(stock, endDate)[\u001B[38;5;124m'\u001B[39m\u001B[38;5;124mClose\u001B[39m\u001B[38;5;124m'\u001B[39m][\u001B[38;5;241m0\u001B[39m]\n\u001B[1;32m    101\u001B[0m \u001B[38;5;28mprint\u001B[39m(\u001B[38;5;124mf\u001B[39m\u001B[38;5;124m\"\u001B[39m\u001B[38;5;124mold price: \u001B[39m\u001B[38;5;132;01m{\u001B[39;00moldPrice\u001B[38;5;132;01m}\u001B[39;00m\u001B[38;5;124m, at \u001B[39m\u001B[38;5;132;01m{\u001B[39;00mstartDate\u001B[38;5;132;01m}\u001B[39;00m\u001B[38;5;124m\"\u001B[39m)\n",
      "\u001B[0;31mTypeError\u001B[0m: 'NoneType' object is not subscriptable"
     ]
    }
   ],
   "source": [
    "\n",
    "\n",
    "getLastWeekReturns(axa)\n",
    "getLastMonthReturns(axa)\n",
    "getLastThreeMonthReturns(axa)\n",
    "getLastYearReturns(axa)"
   ],
   "metadata": {
    "collapsed": false
   }
  },
  {
   "cell_type": "code",
   "execution_count": 48,
   "outputs": [
    {
     "name": "stderr",
     "output_type": "stream",
     "text": [
      "SCR.PA: No price data found, symbol may be delisted (1d 2023-08-07 -> 2023-08-08)\n",
      "SCR.PA: No price data found, symbol may be delisted (1d 2023-08-06 -> 2023-08-07)\n",
      "SCR.PA: No price data found, symbol may be delisted (1d 2023-08-05 -> 2023-08-06)\n"
     ]
    },
    {
     "ename": "TypeError",
     "evalue": "'NoneType' object is not subscriptable",
     "output_type": "error",
     "traceback": [
      "\u001B[0;31m---------------------------------------------------------------------------\u001B[0m",
      "\u001B[0;31mTypeError\u001B[0m                                 Traceback (most recent call last)",
      "Cell \u001B[0;32mIn[48], line 1\u001B[0m\n\u001B[0;32m----> 1\u001B[0m \u001B[43mgetLastWeekReturns\u001B[49m\u001B[43m(\u001B[49m\u001B[43mscor\u001B[49m\u001B[43m)\u001B[49m\n\u001B[1;32m      2\u001B[0m getLastMonthReturns(scor)\n\u001B[1;32m      3\u001B[0m getLastThreeMonthReturns(scor)\n",
      "Cell \u001B[0;32mIn[45], line 115\u001B[0m, in \u001B[0;36mgetLastWeekReturns\u001B[0;34m(stockTicker)\u001B[0m\n\u001B[1;32m    114\u001B[0m \u001B[38;5;28;01mdef\u001B[39;00m \u001B[38;5;21mgetLastWeekReturns\u001B[39m(stockTicker: \u001B[38;5;28mstr\u001B[39m):\n\u001B[0;32m--> 115\u001B[0m     \u001B[43mgetStockReturnsSinceDays\u001B[49m\u001B[43m(\u001B[49m\u001B[43mstockTicker\u001B[49m\u001B[43m,\u001B[49m\u001B[43m \u001B[49m\u001B[38;5;241;43m7\u001B[39;49m\u001B[43m)\u001B[49m\n",
      "Cell \u001B[0;32mIn[45], line 111\u001B[0m, in \u001B[0;36mgetStockReturnsSinceDays\u001B[0;34m(stockTicker, days)\u001B[0m\n\u001B[1;32m    109\u001B[0m endDate \u001B[38;5;241m=\u001B[39m datetime\u001B[38;5;241m.\u001B[39mdatetime\u001B[38;5;241m.\u001B[39mnow()\u001B[38;5;241m.\u001B[39mdate()\n\u001B[1;32m    110\u001B[0m startDate \u001B[38;5;241m=\u001B[39m endDate \u001B[38;5;241m-\u001B[39m datetime\u001B[38;5;241m.\u001B[39mtimedelta(days\u001B[38;5;241m=\u001B[39mdays)\n\u001B[0;32m--> 111\u001B[0m \u001B[43mgetPriceEvolution\u001B[49m\u001B[43m(\u001B[49m\u001B[43mstockTicker\u001B[49m\u001B[43m,\u001B[49m\u001B[43m \u001B[49m\u001B[43mstartDate\u001B[49m\u001B[43m,\u001B[49m\u001B[43m \u001B[49m\u001B[43mendDate\u001B[49m\u001B[43m)\u001B[49m\n",
      "Cell \u001B[0;32mIn[45], line 99\u001B[0m, in \u001B[0;36mgetPriceEvolution\u001B[0;34m(stockTicker, startDate, endDate)\u001B[0m\n\u001B[1;32m     96\u001B[0m     endDate \u001B[38;5;241m=\u001B[39m processDate(endDate)\n\u001B[1;32m     97\u001B[0m endDate \u001B[38;5;241m=\u001B[39m aroundDateToWeekDay(endDate)\n\u001B[0;32m---> 99\u001B[0m oldPrice \u001B[38;5;241m=\u001B[39m \u001B[43mgetPriceOfDate\u001B[49m\u001B[43m(\u001B[49m\u001B[43mstock\u001B[49m\u001B[43m,\u001B[49m\u001B[43m \u001B[49m\u001B[43mstartDate\u001B[49m\u001B[43m)\u001B[49m\u001B[43m[\u001B[49m\u001B[38;5;124;43m'\u001B[39;49m\u001B[38;5;124;43mClose\u001B[39;49m\u001B[38;5;124;43m'\u001B[39;49m\u001B[43m]\u001B[49m[\u001B[38;5;241m0\u001B[39m]\n\u001B[1;32m    100\u001B[0m newPrice \u001B[38;5;241m=\u001B[39m getPriceOfDate(stock, endDate)[\u001B[38;5;124m'\u001B[39m\u001B[38;5;124mClose\u001B[39m\u001B[38;5;124m'\u001B[39m][\u001B[38;5;241m0\u001B[39m]\n\u001B[1;32m    101\u001B[0m \u001B[38;5;28mprint\u001B[39m(\u001B[38;5;124mf\u001B[39m\u001B[38;5;124m\"\u001B[39m\u001B[38;5;124mold price: \u001B[39m\u001B[38;5;132;01m{\u001B[39;00moldPrice\u001B[38;5;132;01m}\u001B[39;00m\u001B[38;5;124m, at \u001B[39m\u001B[38;5;132;01m{\u001B[39;00mstartDate\u001B[38;5;132;01m}\u001B[39;00m\u001B[38;5;124m\"\u001B[39m)\n",
      "\u001B[0;31mTypeError\u001B[0m: 'NoneType' object is not subscriptable"
     ]
    }
   ],
   "source": [
    "\n",
    "\n",
    "getLastWeekReturns(scor)\n",
    "getLastMonthReturns(scor)\n",
    "getLastThreeMonthReturns(scor)\n",
    "getLastYearReturns(scor)"
   ],
   "metadata": {
    "collapsed": false
   }
  },
  {
   "cell_type": "code",
   "execution_count": 73,
   "outputs": [
    {
     "name": "stdout",
     "output_type": "stream",
     "text": [
      "The dividendYield of CS.PA at year 2023 is: 0.06010252816584472\n"
     ]
    }
   ],
   "source": [
    "getDividendYield(axa)"
   ],
   "metadata": {
    "collapsed": false
   }
  },
  {
   "cell_type": "code",
   "execution_count": 49,
   "outputs": [
    {
     "name": "stdout",
     "output_type": "stream",
     "text": [
      "old price: 12.653295516967773, at 2020-06-16\n",
      "new price: 25.610000610351562, at 2023-08-14\n",
      "historical returns: 102.39786999370362\n"
     ]
    },
    {
     "data": {
      "text/plain": "102.39786999370362"
     },
     "execution_count": 49,
     "metadata": {},
     "output_type": "execute_result"
    }
   ],
   "source": [
    "getPriceEvolution(sg, \"2020-06-16\")"
   ],
   "metadata": {
    "collapsed": false
   }
  },
  {
   "cell_type": "code",
   "execution_count": 50,
   "outputs": [
    {
     "name": "stdout",
     "output_type": "stream",
     "text": [
      "The dividendYield of GLE.PA at year 2023 is: 0.06638031860541463\n"
     ]
    }
   ],
   "source": [
    "getDividendYield(sg)"
   ],
   "metadata": {
    "collapsed": false
   }
  },
  {
   "cell_type": "code",
   "execution_count": null,
   "outputs": [],
   "source": [],
   "metadata": {
    "collapsed": false
   }
  }
 ],
 "metadata": {
  "kernelspec": {
   "display_name": "Python 3",
   "language": "python",
   "name": "python3"
  },
  "language_info": {
   "codemirror_mode": {
    "name": "ipython",
    "version": 2
   },
   "file_extension": ".py",
   "mimetype": "text/x-python",
   "name": "python",
   "nbconvert_exporter": "python",
   "pygments_lexer": "ipython2",
   "version": "2.7.6"
  }
 },
 "nbformat": 4,
 "nbformat_minor": 0
}
